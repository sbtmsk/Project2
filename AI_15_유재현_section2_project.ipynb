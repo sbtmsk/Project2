{
  "nbformat": 4,
  "nbformat_minor": 0,
  "metadata": {
    "colab": {
      "name": "n131_Linear_Algebra.ipynb",
      "provenance": [],
      "collapsed_sections": []
    },
    "kernelspec": {
      "name": "python3",
      "display_name": "Python 3"
    },
    "language_info": {
      "name": "python"
    }
  },
  "cells": [
    {
      "cell_type": "markdown",
      "source": [
        "<img src='https://i.imgur.com/RDAD11M.png' width = '200' align = 'right'>\n",
        "\n",
        "# 📝  Project2"
      ],
      "metadata": {
        "id": "vFDfOciGt_uF"
      }
    },
    {
      "cell_type": "markdown",
      "source": [
        "**파워 리프팅 대회에 도전한다고 가정한다.** \n",
        "\n",
        "역대 파워리프팅 대회 참가자들의 기록을 활용하여 현재 나 (혹은 신청 고객)의 위치 를 알아보고, `파워리프팅 대회에서 높은 성적을 따내기 위해` 어떤 전략을 취해야 하는지, `현재 실력으로 입상 가능성이 존재하는지` 알아본다.\n"
      ],
      "metadata": {
        "id": "KPWryN5tIkhW"
      }
    },
    {
      "cell_type": "markdown",
      "source": [
        "1. 힘은 체중에 어느정도 비례한다고 생각된다. 적정 체중을 어느정도로 유지해야 좋은 성적을 낼 수 있는가?\n",
        "2. 최고의 성적을 내는 선수들의 나이대는 어느정도인가? 이미 늦어 버린것은 아닌지?\n",
        "3. Raw 파워리프팅(무장비) 과 장비를 착용하는 파워리프팅 둘 중 어느대회에 참여하는것이 적절한가?\n",
        "4. 비교적 상위 클래스에 들기 쉬운 대회부터 참가하고자 할때, 어느 국가의 어느 대회부터 도전하는 것이 바람직한가?\n",
        "5. 성적에 영향을 주는 요소들은 무엇이고 스테로이드를 사용했을 경우 어느정도 기록향상이 기대되는가? 어느정도 강해지는가?\n",
        "6. 현재 운동실력으로 대회에 출전할 시 어느정도의 성적이 예상되는가?"
      ],
      "metadata": {
        "id": "v9PrbTUDX67d"
      }
    },
    {
      "cell_type": "markdown",
      "source": [
        "## **파일 가져오기 및 import**"
      ],
      "metadata": {
        "id": "eWyJgdQ0xRvr"
      }
    },
    {
      "cell_type": "code",
      "source": [
        "!pip install category_encoders \n",
        "!pip install eli5 \n",
        "!pip install pdpbox"
      ],
      "metadata": {
        "colab": {
          "base_uri": "https://localhost:8080/",
          "height": 1000
        },
        "id": "sNXppBNXTi4W",
        "outputId": "21db663d-ea5f-497f-af16-8921244aeb77"
      },
      "execution_count": 5,
      "outputs": [
        {
          "output_type": "stream",
          "name": "stdout",
          "text": [
            "Looking in indexes: https://pypi.org/simple, https://us-python.pkg.dev/colab-wheels/public/simple/\n",
            "Collecting category_encoders\n",
            "  Downloading category_encoders-2.5.1-py2.py3-none-any.whl (71 kB)\n",
            "\u001b[K     |████████████████████████████████| 71 kB 4.5 MB/s \n",
            "\u001b[?25hRequirement already satisfied: scikit-learn>=0.20.0 in /usr/local/lib/python3.7/dist-packages (from category_encoders) (1.0.2)\n",
            "Requirement already satisfied: scipy>=1.0.0 in /usr/local/lib/python3.7/dist-packages (from category_encoders) (1.7.3)\n",
            "Requirement already satisfied: statsmodels>=0.9.0 in /usr/local/lib/python3.7/dist-packages (from category_encoders) (0.12.2)\n",
            "Requirement already satisfied: patsy>=0.5.1 in /usr/local/lib/python3.7/dist-packages (from category_encoders) (0.5.2)\n",
            "Requirement already satisfied: numpy>=1.14.0 in /usr/local/lib/python3.7/dist-packages (from category_encoders) (1.21.6)\n",
            "Requirement already satisfied: pandas>=1.0.5 in /usr/local/lib/python3.7/dist-packages (from category_encoders) (1.3.5)\n",
            "Requirement already satisfied: pytz>=2017.3 in /usr/local/lib/python3.7/dist-packages (from pandas>=1.0.5->category_encoders) (2022.2.1)\n",
            "Requirement already satisfied: python-dateutil>=2.7.3 in /usr/local/lib/python3.7/dist-packages (from pandas>=1.0.5->category_encoders) (2.8.2)\n",
            "Requirement already satisfied: six in /usr/local/lib/python3.7/dist-packages (from patsy>=0.5.1->category_encoders) (1.15.0)\n",
            "Requirement already satisfied: threadpoolctl>=2.0.0 in /usr/local/lib/python3.7/dist-packages (from scikit-learn>=0.20.0->category_encoders) (3.1.0)\n",
            "Requirement already satisfied: joblib>=0.11 in /usr/local/lib/python3.7/dist-packages (from scikit-learn>=0.20.0->category_encoders) (1.1.0)\n",
            "Installing collected packages: category-encoders\n",
            "Successfully installed category-encoders-2.5.1\n",
            "Looking in indexes: https://pypi.org/simple, https://us-python.pkg.dev/colab-wheels/public/simple/\n",
            "Collecting eli5\n",
            "  Downloading eli5-0.13.0.tar.gz (216 kB)\n",
            "\u001b[K     |████████████████████████████████| 216 kB 15.8 MB/s \n",
            "\u001b[?25hRequirement already satisfied: attrs>17.1.0 in /usr/local/lib/python3.7/dist-packages (from eli5) (22.1.0)\n",
            "Collecting jinja2>=3.0.0\n",
            "  Downloading Jinja2-3.1.2-py3-none-any.whl (133 kB)\n",
            "\u001b[K     |████████████████████████████████| 133 kB 53.3 MB/s \n",
            "\u001b[?25hRequirement already satisfied: numpy>=1.9.0 in /usr/local/lib/python3.7/dist-packages (from eli5) (1.21.6)\n",
            "Requirement already satisfied: scipy in /usr/local/lib/python3.7/dist-packages (from eli5) (1.7.3)\n",
            "Requirement already satisfied: six in /usr/local/lib/python3.7/dist-packages (from eli5) (1.15.0)\n",
            "Requirement already satisfied: scikit-learn>=0.20 in /usr/local/lib/python3.7/dist-packages (from eli5) (1.0.2)\n",
            "Requirement already satisfied: graphviz in /usr/local/lib/python3.7/dist-packages (from eli5) (0.10.1)\n",
            "Requirement already satisfied: tabulate>=0.7.7 in /usr/local/lib/python3.7/dist-packages (from eli5) (0.8.10)\n",
            "Requirement already satisfied: MarkupSafe>=2.0 in /usr/local/lib/python3.7/dist-packages (from jinja2>=3.0.0->eli5) (2.0.1)\n",
            "Requirement already satisfied: threadpoolctl>=2.0.0 in /usr/local/lib/python3.7/dist-packages (from scikit-learn>=0.20->eli5) (3.1.0)\n",
            "Requirement already satisfied: joblib>=0.11 in /usr/local/lib/python3.7/dist-packages (from scikit-learn>=0.20->eli5) (1.1.0)\n",
            "Building wheels for collected packages: eli5\n",
            "  Building wheel for eli5 (setup.py) ... \u001b[?25l\u001b[?25hdone\n",
            "  Created wheel for eli5: filename=eli5-0.13.0-py2.py3-none-any.whl size=107748 sha256=c4138e9c52b965a20a90ed1ae824aec512706b8f350111b04750bdb9aae96343\n",
            "  Stored in directory: /root/.cache/pip/wheels/cc/3c/96/3ead31a8e6c20fc0f1a707fde2e05d49a80b1b4b30096573be\n",
            "Successfully built eli5\n",
            "Installing collected packages: jinja2, eli5\n",
            "  Attempting uninstall: jinja2\n",
            "    Found existing installation: Jinja2 2.11.3\n",
            "    Uninstalling Jinja2-2.11.3:\n",
            "      Successfully uninstalled Jinja2-2.11.3\n",
            "\u001b[31mERROR: pip's dependency resolver does not currently take into account all the packages that are installed. This behaviour is the source of the following dependency conflicts.\n",
            "flask 1.1.4 requires Jinja2<3.0,>=2.10.1, but you have jinja2 3.1.2 which is incompatible.\u001b[0m\n",
            "Successfully installed eli5-0.13.0 jinja2-3.1.2\n",
            "Looking in indexes: https://pypi.org/simple, https://us-python.pkg.dev/colab-wheels/public/simple/\n",
            "Collecting pdpbox\n",
            "  Downloading PDPbox-0.2.1.tar.gz (34.0 MB)\n",
            "\u001b[K     |████████████████████████████████| 34.0 MB 235 kB/s \n",
            "\u001b[?25hRequirement already satisfied: pandas in /usr/local/lib/python3.7/dist-packages (from pdpbox) (1.3.5)\n",
            "Requirement already satisfied: numpy in /usr/local/lib/python3.7/dist-packages (from pdpbox) (1.21.6)\n",
            "Requirement already satisfied: scipy in /usr/local/lib/python3.7/dist-packages (from pdpbox) (1.7.3)\n",
            "Requirement already satisfied: joblib in /usr/local/lib/python3.7/dist-packages (from pdpbox) (1.1.0)\n",
            "Requirement already satisfied: psutil in /usr/local/lib/python3.7/dist-packages (from pdpbox) (5.4.8)\n",
            "Collecting matplotlib==3.1.1\n",
            "  Downloading matplotlib-3.1.1-cp37-cp37m-manylinux1_x86_64.whl (13.1 MB)\n",
            "\u001b[K     |████████████████████████████████| 13.1 MB 58.5 MB/s \n",
            "\u001b[?25hCollecting sklearn\n",
            "  Downloading sklearn-0.0.tar.gz (1.1 kB)\n",
            "Requirement already satisfied: pyparsing!=2.0.4,!=2.1.2,!=2.1.6,>=2.0.1 in /usr/local/lib/python3.7/dist-packages (from matplotlib==3.1.1->pdpbox) (3.0.9)\n",
            "Requirement already satisfied: kiwisolver>=1.0.1 in /usr/local/lib/python3.7/dist-packages (from matplotlib==3.1.1->pdpbox) (1.4.4)\n",
            "Requirement already satisfied: cycler>=0.10 in /usr/local/lib/python3.7/dist-packages (from matplotlib==3.1.1->pdpbox) (0.11.0)\n",
            "Requirement already satisfied: python-dateutil>=2.1 in /usr/local/lib/python3.7/dist-packages (from matplotlib==3.1.1->pdpbox) (2.8.2)\n",
            "Requirement already satisfied: typing-extensions in /usr/local/lib/python3.7/dist-packages (from kiwisolver>=1.0.1->matplotlib==3.1.1->pdpbox) (4.1.1)\n",
            "Requirement already satisfied: six>=1.5 in /usr/local/lib/python3.7/dist-packages (from python-dateutil>=2.1->matplotlib==3.1.1->pdpbox) (1.15.0)\n",
            "Requirement already satisfied: pytz>=2017.3 in /usr/local/lib/python3.7/dist-packages (from pandas->pdpbox) (2022.2.1)\n",
            "Requirement already satisfied: scikit-learn in /usr/local/lib/python3.7/dist-packages (from sklearn->pdpbox) (1.0.2)\n",
            "Requirement already satisfied: threadpoolctl>=2.0.0 in /usr/local/lib/python3.7/dist-packages (from scikit-learn->sklearn->pdpbox) (3.1.0)\n",
            "Building wheels for collected packages: pdpbox, sklearn\n",
            "  Building wheel for pdpbox (setup.py) ... \u001b[?25l\u001b[?25hdone\n",
            "  Created wheel for pdpbox: filename=PDPbox-0.2.1-py3-none-any.whl size=35758224 sha256=aa071230eeb502eeb7a5266e8d4c5157900884bab8bf441990cabede2829ef43\n",
            "  Stored in directory: /root/.cache/pip/wheels/f4/d0/1a/b80035625c53131f52906a6fc4dd690d8efd2bf8af6a4015eb\n",
            "  Building wheel for sklearn (setup.py) ... \u001b[?25l\u001b[?25hdone\n",
            "  Created wheel for sklearn: filename=sklearn-0.0-py2.py3-none-any.whl size=1310 sha256=7e401908a7c2193c52e2174099206036f3f5f725e2da6fe1291ef797a0e84d0e\n",
            "  Stored in directory: /root/.cache/pip/wheels/46/ef/c3/157e41f5ee1372d1be90b09f74f82b10e391eaacca8f22d33e\n",
            "Successfully built pdpbox sklearn\n",
            "Installing collected packages: sklearn, matplotlib, pdpbox\n",
            "  Attempting uninstall: matplotlib\n",
            "    Found existing installation: matplotlib 3.2.2\n",
            "    Uninstalling matplotlib-3.2.2:\n",
            "      Successfully uninstalled matplotlib-3.2.2\n",
            "Successfully installed matplotlib-3.1.1 pdpbox-0.2.1 sklearn-0.0\n"
          ]
        },
        {
          "output_type": "display_data",
          "data": {
            "application/vnd.colab-display-data+json": {
              "pip_warning": {
                "packages": [
                  "matplotlib",
                  "mpl_toolkits"
                ]
              }
            }
          },
          "metadata": {}
        }
      ]
    },
    {
      "cell_type": "code",
      "source": [
        "import pandas as pd\n",
        "import numpy as np\n",
        "import re\n",
        "from google.colab import files\n",
        "import io\n",
        "import matplotlib.pyplot as plt \n",
        "import random\n",
        "import seaborn as sns\n",
        "\n",
        "from sklearn import metrics\n",
        "from sklearn.metrics import accuracy_score\n",
        "from sklearn.model_selection import train_test_split\n",
        "from sklearn.preprocessing import LabelEncoder\n",
        "from sklearn.metrics import roc_auc_score\n",
        "from sklearn.pipeline import make_pipeline\n",
        "from sklearn.preprocessing import PolynomialFeatures\n",
        "from category_encoders import OrdinalEncoder\n",
        "from sklearn.ensemble import RandomForestClassifier\n",
        "from sklearn.model_selection import cross_val_score\n",
        "\n",
        "from pdpbox.pdp import pdp_isolate, pdp_plot #  pdp plot 그리기 "
      ],
      "metadata": {
        "id": "vtMeAV8Y683O"
      },
      "execution_count": 6,
      "outputs": []
    },
    {
      "cell_type": "code",
      "source": [
        "df = pd.read_csv('powerlifting.csv')"
      ],
      "metadata": {
        "id": "KeMHK5SbWLeF"
      },
      "execution_count": 7,
      "outputs": []
    },
    {
      "cell_type": "code",
      "source": [
        "df.shape"
      ],
      "metadata": {
        "id": "Q9JJyS7hgBpC",
        "outputId": "6fab3336-1879-454e-bcf4-962c7e191bfc",
        "colab": {
          "base_uri": "https://localhost:8080/"
        }
      },
      "execution_count": 8,
      "outputs": [
        {
          "output_type": "execute_result",
          "data": {
            "text/plain": [
              "(1423354, 37)"
            ]
          },
          "metadata": {},
          "execution_count": 8
        }
      ]
    },
    {
      "cell_type": "code",
      "source": [
        "df.info()"
      ],
      "metadata": {
        "id": "VJvKTxlT8McV",
        "colab": {
          "base_uri": "https://localhost:8080/"
        },
        "outputId": "c3786924-e196-431e-e9f5-8e5fd72af385"
      },
      "execution_count": 9,
      "outputs": [
        {
          "output_type": "stream",
          "name": "stdout",
          "text": [
            "<class 'pandas.core.frame.DataFrame'>\n",
            "RangeIndex: 1423354 entries, 0 to 1423353\n",
            "Data columns (total 37 columns):\n",
            " #   Column           Non-Null Count    Dtype  \n",
            "---  ------           --------------    -----  \n",
            " 0   Name             1423354 non-null  object \n",
            " 1   Sex              1423354 non-null  object \n",
            " 2   Event            1423354 non-null  object \n",
            " 3   Equipment        1423354 non-null  object \n",
            " 4   Age              757527 non-null   float64\n",
            " 5   AgeClass         786800 non-null   object \n",
            " 6   Division         1415176 non-null  object \n",
            " 7   BodyweightKg     1406622 non-null  float64\n",
            " 8   WeightClassKg    1410042 non-null  object \n",
            " 9   Squat1Kg         337580 non-null   float64\n",
            " 10  Squat2Kg         333349 non-null   float64\n",
            " 11  Squat3Kg         323842 non-null   float64\n",
            " 12  Squat4Kg         3696 non-null     float64\n",
            " 13  Best3SquatKg     1031450 non-null  float64\n",
            " 14  Bench1Kg         499779 non-null   float64\n",
            " 15  Bench2Kg         493486 non-null   float64\n",
            " 16  Bench3Kg         478485 non-null   float64\n",
            " 17  Bench4Kg         9505 non-null     float64\n",
            " 18  Best3BenchKg     1276181 non-null  float64\n",
            " 19  Deadlift1Kg      363544 non-null   float64\n",
            " 20  Deadlift2Kg      356023 non-null   float64\n",
            " 21  Deadlift3Kg      339947 non-null   float64\n",
            " 22  Deadlift4Kg      9246 non-null     float64\n",
            " 23  Best3DeadliftKg  1081808 non-null  float64\n",
            " 24  TotalKg          1313184 non-null  float64\n",
            " 25  Place            1423354 non-null  object \n",
            " 26  Wilks            1304407 non-null  float64\n",
            " 27  McCulloch        1304254 non-null  float64\n",
            " 28  Glossbrenner     1304407 non-null  float64\n",
            " 29  IPFPoints        1273286 non-null  float64\n",
            " 30  Tested           1093892 non-null  object \n",
            " 31  Country          388884 non-null   object \n",
            " 32  Federation       1423354 non-null  object \n",
            " 33  Date             1423354 non-null  object \n",
            " 34  MeetCountry      1423354 non-null  object \n",
            " 35  MeetState        941545 non-null   object \n",
            " 36  MeetName         1423354 non-null  object \n",
            "dtypes: float64(22), object(15)\n",
            "memory usage: 401.8+ MB\n"
          ]
        }
      ]
    },
    {
      "cell_type": "markdown",
      "source": [
        "## **특성 정리하기**\n",
        "\n",
        "---\n",
        "\n"
      ],
      "metadata": {
        "id": "N6JDfze--bGg"
      }
    },
    {
      "cell_type": "markdown",
      "source": [
        "Feature가 37개로 너무 많다. 필요한 특성만을 추려내고 이름을 변경한다."
      ],
      "metadata": {
        "id": "xhK8gX_mXnU9"
      }
    },
    {
      "cell_type": "code",
      "source": [
        "df = df.drop(columns=['AgeClass', 'Division','McCulloch','Glossbrenner','IPFPoints','Date','Federation','MeetState','Squat1Kg','Squat2Kg','Squat3Kg','Squat4Kg','Bench1Kg','Bench2Kg','Bench3Kg','Bench4Kg','Deadlift1Kg','Deadlift2Kg','Deadlift3Kg','Deadlift4Kg',\n",
        "                      'WeightClassKg'])"
      ],
      "metadata": {
        "id": "6gZCE_xHaIa_"
      },
      "execution_count": 10,
      "outputs": []
    },
    {
      "cell_type": "code",
      "source": [
        "df = df.drop(columns=['Place','Country'])"
      ],
      "metadata": {
        "id": "r_ndYEKYb20s"
      },
      "execution_count": 11,
      "outputs": []
    },
    {
      "cell_type": "code",
      "source": [
        "df.rename(columns={'Event':'isSBD','Best3SquatKg':'Squat','Best3BenchKg':'Bench','Best3DeadliftKg':'Dead'}, inplace=True)"
      ],
      "metadata": {
        "id": "hLyH26TmdFcO"
      },
      "execution_count": 12,
      "outputs": []
    },
    {
      "cell_type": "code",
      "source": [
        "df.info()"
      ],
      "metadata": {
        "colab": {
          "base_uri": "https://localhost:8080/"
        },
        "id": "xVUcF9-IelwO",
        "outputId": "f66aec52-3def-4a1a-88d4-dae450e3dff6"
      },
      "execution_count": 13,
      "outputs": [
        {
          "output_type": "stream",
          "name": "stdout",
          "text": [
            "<class 'pandas.core.frame.DataFrame'>\n",
            "RangeIndex: 1423354 entries, 0 to 1423353\n",
            "Data columns (total 14 columns):\n",
            " #   Column        Non-Null Count    Dtype  \n",
            "---  ------        --------------    -----  \n",
            " 0   Name          1423354 non-null  object \n",
            " 1   Sex           1423354 non-null  object \n",
            " 2   isSBD         1423354 non-null  object \n",
            " 3   Equipment     1423354 non-null  object \n",
            " 4   Age           757527 non-null   float64\n",
            " 5   BodyweightKg  1406622 non-null  float64\n",
            " 6   Squat         1031450 non-null  float64\n",
            " 7   Bench         1276181 non-null  float64\n",
            " 8   Dead          1081808 non-null  float64\n",
            " 9   TotalKg       1313184 non-null  float64\n",
            " 10  Wilks         1304407 non-null  float64\n",
            " 11  Tested        1093892 non-null  object \n",
            " 12  MeetCountry   1423354 non-null  object \n",
            " 13  MeetName      1423354 non-null  object \n",
            "dtypes: float64(7), object(7)\n",
            "memory usage: 152.0+ MB\n"
          ]
        }
      ]
    },
    {
      "cell_type": "code",
      "source": [
        "df.shape"
      ],
      "metadata": {
        "colab": {
          "base_uri": "https://localhost:8080/"
        },
        "id": "rxCGTE4-juWW",
        "outputId": "57e44076-f8a4-40b9-c0f0-efb0d5fd3db3"
      },
      "execution_count": 14,
      "outputs": [
        {
          "output_type": "execute_result",
          "data": {
            "text/plain": [
              "(1423354, 14)"
            ]
          },
          "metadata": {},
          "execution_count": 14
        }
      ]
    },
    {
      "cell_type": "markdown",
      "source": [
        "###**데이터 설명**"
      ],
      "metadata": {
        "id": "_575U1nthUJt"
      }
    },
    {
      "cell_type": "markdown",
      "source": [
        "```\n",
        "data size: (1423354, 14)\n",
        "\n",
        "Name          : 이름\n",
        "Sex           : 성별\n",
        "isSBD         : 참여 종목 종류\n",
        "Equipment     : 장비 착용 종류\n",
        "Age           : 나이\n",
        "BodyweightKg  : 체중\n",
        "Squat         : 스쿼트 중량\n",
        "Bench         : 벤치프레스 중량\n",
        "Dead          : 데드리프트 중량\n",
        "TotalKg       : 총 중량 합\n",
        "Wilks         : Wilks 점수 ( 체중대비,성별대비 총 중량의 점수 값)\n",
        "Tested        : 도핑테스트 검출 여부\n",
        "MeetCountry   : 개최 국가\n",
        "MeetName      : 대회 명\n",
        "```"
      ],
      "metadata": {
        "id": "BkIxoYcO9cqW"
      }
    },
    {
      "cell_type": "markdown",
      "source": [
        "## **전처리**"
      ],
      "metadata": {
        "id": "Rh4CbKAfiF6I"
      }
    },
    {
      "cell_type": "code",
      "source": [
        "DF = df.copy()"
      ],
      "metadata": {
        "id": "9tzjFBIKn1XU"
      },
      "execution_count": 15,
      "outputs": []
    },
    {
      "cell_type": "code",
      "source": [
        "DF.head(5)"
      ],
      "metadata": {
        "colab": {
          "base_uri": "https://localhost:8080/",
          "height": 337
        },
        "id": "Q2yp_EULmYik",
        "outputId": "6eda1641-b130-45fc-cca4-bd2b11352426"
      },
      "execution_count": 16,
      "outputs": [
        {
          "output_type": "execute_result",
          "data": {
            "text/plain": [
              "              Name Sex isSBD Equipment   Age  BodyweightKg  Squat  Bench  \\\n",
              "0     Abbie Murphy   F   SBD     Wraps  29.0          59.8  105.0   55.0   \n",
              "1      Abbie Tuong   F   SBD     Wraps  29.0          58.5  120.0   67.5   \n",
              "2   Ainslee Hooper   F     B       Raw  40.0          55.4    NaN   32.5   \n",
              "3  Amy Moldenhauer   F   SBD     Wraps  23.0          60.0  105.0   72.5   \n",
              "4     Andrea Rowan   F   SBD     Wraps  45.0         104.0  140.0   80.0   \n",
              "\n",
              "    Dead  TotalKg   Wilks Tested MeetCountry       MeetName  \n",
              "0  130.0    290.0  324.16    NaN   Australia  Melbourne Cup  \n",
              "1  145.0    332.5  378.07    NaN   Australia  Melbourne Cup  \n",
              "2    NaN     32.5   38.56    NaN   Australia  Melbourne Cup  \n",
              "3  132.5    310.0  345.61    NaN   Australia  Melbourne Cup  \n",
              "4  170.0    390.0  321.25    NaN   Australia  Melbourne Cup  "
            ],
            "text/html": [
              "\n",
              "  <div id=\"df-86f4751d-cce4-4a02-a41d-2fbb5a2b90dd\">\n",
              "    <div class=\"colab-df-container\">\n",
              "      <div>\n",
              "<style scoped>\n",
              "    .dataframe tbody tr th:only-of-type {\n",
              "        vertical-align: middle;\n",
              "    }\n",
              "\n",
              "    .dataframe tbody tr th {\n",
              "        vertical-align: top;\n",
              "    }\n",
              "\n",
              "    .dataframe thead th {\n",
              "        text-align: right;\n",
              "    }\n",
              "</style>\n",
              "<table border=\"1\" class=\"dataframe\">\n",
              "  <thead>\n",
              "    <tr style=\"text-align: right;\">\n",
              "      <th></th>\n",
              "      <th>Name</th>\n",
              "      <th>Sex</th>\n",
              "      <th>isSBD</th>\n",
              "      <th>Equipment</th>\n",
              "      <th>Age</th>\n",
              "      <th>BodyweightKg</th>\n",
              "      <th>Squat</th>\n",
              "      <th>Bench</th>\n",
              "      <th>Dead</th>\n",
              "      <th>TotalKg</th>\n",
              "      <th>Wilks</th>\n",
              "      <th>Tested</th>\n",
              "      <th>MeetCountry</th>\n",
              "      <th>MeetName</th>\n",
              "    </tr>\n",
              "  </thead>\n",
              "  <tbody>\n",
              "    <tr>\n",
              "      <th>0</th>\n",
              "      <td>Abbie Murphy</td>\n",
              "      <td>F</td>\n",
              "      <td>SBD</td>\n",
              "      <td>Wraps</td>\n",
              "      <td>29.0</td>\n",
              "      <td>59.8</td>\n",
              "      <td>105.0</td>\n",
              "      <td>55.0</td>\n",
              "      <td>130.0</td>\n",
              "      <td>290.0</td>\n",
              "      <td>324.16</td>\n",
              "      <td>NaN</td>\n",
              "      <td>Australia</td>\n",
              "      <td>Melbourne Cup</td>\n",
              "    </tr>\n",
              "    <tr>\n",
              "      <th>1</th>\n",
              "      <td>Abbie Tuong</td>\n",
              "      <td>F</td>\n",
              "      <td>SBD</td>\n",
              "      <td>Wraps</td>\n",
              "      <td>29.0</td>\n",
              "      <td>58.5</td>\n",
              "      <td>120.0</td>\n",
              "      <td>67.5</td>\n",
              "      <td>145.0</td>\n",
              "      <td>332.5</td>\n",
              "      <td>378.07</td>\n",
              "      <td>NaN</td>\n",
              "      <td>Australia</td>\n",
              "      <td>Melbourne Cup</td>\n",
              "    </tr>\n",
              "    <tr>\n",
              "      <th>2</th>\n",
              "      <td>Ainslee Hooper</td>\n",
              "      <td>F</td>\n",
              "      <td>B</td>\n",
              "      <td>Raw</td>\n",
              "      <td>40.0</td>\n",
              "      <td>55.4</td>\n",
              "      <td>NaN</td>\n",
              "      <td>32.5</td>\n",
              "      <td>NaN</td>\n",
              "      <td>32.5</td>\n",
              "      <td>38.56</td>\n",
              "      <td>NaN</td>\n",
              "      <td>Australia</td>\n",
              "      <td>Melbourne Cup</td>\n",
              "    </tr>\n",
              "    <tr>\n",
              "      <th>3</th>\n",
              "      <td>Amy Moldenhauer</td>\n",
              "      <td>F</td>\n",
              "      <td>SBD</td>\n",
              "      <td>Wraps</td>\n",
              "      <td>23.0</td>\n",
              "      <td>60.0</td>\n",
              "      <td>105.0</td>\n",
              "      <td>72.5</td>\n",
              "      <td>132.5</td>\n",
              "      <td>310.0</td>\n",
              "      <td>345.61</td>\n",
              "      <td>NaN</td>\n",
              "      <td>Australia</td>\n",
              "      <td>Melbourne Cup</td>\n",
              "    </tr>\n",
              "    <tr>\n",
              "      <th>4</th>\n",
              "      <td>Andrea Rowan</td>\n",
              "      <td>F</td>\n",
              "      <td>SBD</td>\n",
              "      <td>Wraps</td>\n",
              "      <td>45.0</td>\n",
              "      <td>104.0</td>\n",
              "      <td>140.0</td>\n",
              "      <td>80.0</td>\n",
              "      <td>170.0</td>\n",
              "      <td>390.0</td>\n",
              "      <td>321.25</td>\n",
              "      <td>NaN</td>\n",
              "      <td>Australia</td>\n",
              "      <td>Melbourne Cup</td>\n",
              "    </tr>\n",
              "  </tbody>\n",
              "</table>\n",
              "</div>\n",
              "      <button class=\"colab-df-convert\" onclick=\"convertToInteractive('df-86f4751d-cce4-4a02-a41d-2fbb5a2b90dd')\"\n",
              "              title=\"Convert this dataframe to an interactive table.\"\n",
              "              style=\"display:none;\">\n",
              "        \n",
              "  <svg xmlns=\"http://www.w3.org/2000/svg\" height=\"24px\"viewBox=\"0 0 24 24\"\n",
              "       width=\"24px\">\n",
              "    <path d=\"M0 0h24v24H0V0z\" fill=\"none\"/>\n",
              "    <path d=\"M18.56 5.44l.94 2.06.94-2.06 2.06-.94-2.06-.94-.94-2.06-.94 2.06-2.06.94zm-11 1L8.5 8.5l.94-2.06 2.06-.94-2.06-.94L8.5 2.5l-.94 2.06-2.06.94zm10 10l.94 2.06.94-2.06 2.06-.94-2.06-.94-.94-2.06-.94 2.06-2.06.94z\"/><path d=\"M17.41 7.96l-1.37-1.37c-.4-.4-.92-.59-1.43-.59-.52 0-1.04.2-1.43.59L10.3 9.45l-7.72 7.72c-.78.78-.78 2.05 0 2.83L4 21.41c.39.39.9.59 1.41.59.51 0 1.02-.2 1.41-.59l7.78-7.78 2.81-2.81c.8-.78.8-2.07 0-2.86zM5.41 20L4 18.59l7.72-7.72 1.47 1.35L5.41 20z\"/>\n",
              "  </svg>\n",
              "      </button>\n",
              "      \n",
              "  <style>\n",
              "    .colab-df-container {\n",
              "      display:flex;\n",
              "      flex-wrap:wrap;\n",
              "      gap: 12px;\n",
              "    }\n",
              "\n",
              "    .colab-df-convert {\n",
              "      background-color: #E8F0FE;\n",
              "      border: none;\n",
              "      border-radius: 50%;\n",
              "      cursor: pointer;\n",
              "      display: none;\n",
              "      fill: #1967D2;\n",
              "      height: 32px;\n",
              "      padding: 0 0 0 0;\n",
              "      width: 32px;\n",
              "    }\n",
              "\n",
              "    .colab-df-convert:hover {\n",
              "      background-color: #E2EBFA;\n",
              "      box-shadow: 0px 1px 2px rgba(60, 64, 67, 0.3), 0px 1px 3px 1px rgba(60, 64, 67, 0.15);\n",
              "      fill: #174EA6;\n",
              "    }\n",
              "\n",
              "    [theme=dark] .colab-df-convert {\n",
              "      background-color: #3B4455;\n",
              "      fill: #D2E3FC;\n",
              "    }\n",
              "\n",
              "    [theme=dark] .colab-df-convert:hover {\n",
              "      background-color: #434B5C;\n",
              "      box-shadow: 0px 1px 3px 1px rgba(0, 0, 0, 0.15);\n",
              "      filter: drop-shadow(0px 1px 2px rgba(0, 0, 0, 0.3));\n",
              "      fill: #FFFFFF;\n",
              "    }\n",
              "  </style>\n",
              "\n",
              "      <script>\n",
              "        const buttonEl =\n",
              "          document.querySelector('#df-86f4751d-cce4-4a02-a41d-2fbb5a2b90dd button.colab-df-convert');\n",
              "        buttonEl.style.display =\n",
              "          google.colab.kernel.accessAllowed ? 'block' : 'none';\n",
              "\n",
              "        async function convertToInteractive(key) {\n",
              "          const element = document.querySelector('#df-86f4751d-cce4-4a02-a41d-2fbb5a2b90dd');\n",
              "          const dataTable =\n",
              "            await google.colab.kernel.invokeFunction('convertToInteractive',\n",
              "                                                     [key], {});\n",
              "          if (!dataTable) return;\n",
              "\n",
              "          const docLinkHtml = 'Like what you see? Visit the ' +\n",
              "            '<a target=\"_blank\" href=https://colab.research.google.com/notebooks/data_table.ipynb>data table notebook</a>'\n",
              "            + ' to learn more about interactive tables.';\n",
              "          element.innerHTML = '';\n",
              "          dataTable['output_type'] = 'display_data';\n",
              "          await google.colab.output.renderOutput(dataTable, element);\n",
              "          const docLink = document.createElement('div');\n",
              "          docLink.innerHTML = docLinkHtml;\n",
              "          element.appendChild(docLink);\n",
              "        }\n",
              "      </script>\n",
              "    </div>\n",
              "  </div>\n",
              "  "
            ]
          },
          "metadata": {},
          "execution_count": 16
        }
      ]
    },
    {
      "cell_type": "code",
      "source": [
        "DF.shape"
      ],
      "metadata": {
        "colab": {
          "base_uri": "https://localhost:8080/"
        },
        "id": "N1X1_vOZqA52",
        "outputId": "64da0bfd-0bb0-4fa2-cfec-bcc23eef0dca"
      },
      "execution_count": 17,
      "outputs": [
        {
          "output_type": "execute_result",
          "data": {
            "text/plain": [
              "(1423354, 14)"
            ]
          },
          "metadata": {},
          "execution_count": 17
        }
      ]
    },
    {
      "cell_type": "markdown",
      "source": [
        "**전처리**\n",
        "\n",
        "1. 중복값 제거\n",
        "2. 일부 종목만 참가한 참가자들은 평가에서 제외 (isSBD 에서 SBD row만 남김)\n",
        "3. Squat, Bench, Dead 중 주어진 모든 도전횟수에서 실패한 참가자는 결측치 발생으로 제외한다.\n",
        "4. 총 중량과 Wilk 점수에서 null 값이 발생한 경우 제거\n",
        "5. 나이가 적혀있지 않은 참가자도 제거\n",
        "6. 도핑 테스트 결과가 양성이면 1, 음성이면(NaN) 0으로 표시한다."
      ],
      "metadata": {
        "id": "mUpFRTZWn8GE"
      }
    },
    {
      "cell_type": "code",
      "source": [
        "DF = DF.drop_duplicates() # 52595 개"
      ],
      "metadata": {
        "id": "Z2lZNDdJp9HM"
      },
      "execution_count": 18,
      "outputs": []
    },
    {
      "cell_type": "code",
      "source": [
        "DF.shape"
      ],
      "metadata": {
        "colab": {
          "base_uri": "https://localhost:8080/"
        },
        "id": "GYNCc00TsVcl",
        "outputId": "b2b52944-8e1c-43eb-eb51-3809eea4a244"
      },
      "execution_count": 19,
      "outputs": [
        {
          "output_type": "execute_result",
          "data": {
            "text/plain": [
              "(1370759, 14)"
            ]
          },
          "metadata": {},
          "execution_count": 19
        }
      ]
    },
    {
      "cell_type": "code",
      "source": [
        "DF = DF.dropna(subset=['Squat', 'Bench', 'Dead','TotalKg','Wilks','Age']) # the same with dropna(axis=0)"
      ],
      "metadata": {
        "id": "6TPK1H6nq4_9"
      },
      "execution_count": 20,
      "outputs": []
    },
    {
      "cell_type": "code",
      "source": [
        "DF.shape"
      ],
      "metadata": {
        "colab": {
          "base_uri": "https://localhost:8080/"
        },
        "id": "5c94M1u8rfml",
        "outputId": "3eca82dd-08eb-49dd-cea7-084e601ff171"
      },
      "execution_count": 21,
      "outputs": [
        {
          "output_type": "execute_result",
          "data": {
            "text/plain": [
              "(445363, 14)"
            ]
          },
          "metadata": {},
          "execution_count": 21
        }
      ]
    },
    {
      "cell_type": "code",
      "source": [
        "DF"
      ],
      "metadata": {
        "colab": {
          "base_uri": "https://localhost:8080/",
          "height": 835
        },
        "id": "NOq18yxNu-7V",
        "outputId": "a46aac5c-bc65-4fd8-bed7-c568aba9e4d4"
      },
      "execution_count": 22,
      "outputs": [
        {
          "output_type": "execute_result",
          "data": {
            "text/plain": [
              "                       Name Sex isSBD Equipment   Age  BodyweightKg  Squat  \\\n",
              "0              Abbie Murphy   F   SBD     Wraps  29.0         59.80  105.0   \n",
              "1               Abbie Tuong   F   SBD     Wraps  29.0         58.50  120.0   \n",
              "3           Amy Moldenhauer   F   SBD     Wraps  23.0         60.00  105.0   \n",
              "4              Andrea Rowan   F   SBD     Wraps  45.0        104.00  140.0   \n",
              "5             April Alvarez   F   SBD     Wraps  37.0         74.00  142.5   \n",
              "...                     ...  ..   ...       ...   ...           ...    ...   \n",
              "1423345      Łukasz Głowacz   M   SBD       Raw  40.5         82.75  170.0   \n",
              "1423347       Adam Jasiński   M   SBD       Raw  65.5         78.00  215.0   \n",
              "1423349      Marian Cafalik   M   SBD       Raw  60.5         73.50  175.0   \n",
              "1423350  Marian Piwowarczyk   M   SBD       Raw  55.5         63.50  110.0   \n",
              "1423351  Andrzej Bryniarski   M   SBD       Raw  62.5         94.40  160.0   \n",
              "\n",
              "         Bench   Dead  TotalKg   Wilks Tested MeetCountry  \\\n",
              "0         55.0  130.0    290.0  324.16    NaN   Australia   \n",
              "1         67.5  145.0    332.5  378.07    NaN   Australia   \n",
              "3         72.5  132.5    310.0  345.61    NaN   Australia   \n",
              "4         80.0  170.0    390.0  321.25    NaN   Australia   \n",
              "5         82.5  145.0    370.0  354.74    NaN   Australia   \n",
              "...        ...    ...      ...     ...    ...         ...   \n",
              "1423345  130.0  200.0    500.0  334.35    Yes      Poland   \n",
              "1423347  115.0  207.5    537.5  372.98    Yes      Poland   \n",
              "1423349   87.5  190.0    452.5  327.07    Yes      Poland   \n",
              "1423350   95.0  170.0    375.0  304.16    Yes      Poland   \n",
              "1423351  100.0  180.0    440.0  274.48    Yes      Poland   \n",
              "\n",
              "                                MeetName  \n",
              "0                          Melbourne Cup  \n",
              "1                          Melbourne Cup  \n",
              "3                          Melbourne Cup  \n",
              "4                          Melbourne Cup  \n",
              "5                          Melbourne Cup  \n",
              "...                                  ...  \n",
              "1423345  Polish Classic Powerlifting Cup  \n",
              "1423347  Polish Classic Powerlifting Cup  \n",
              "1423349  Polish Classic Powerlifting Cup  \n",
              "1423350  Polish Classic Powerlifting Cup  \n",
              "1423351  Polish Classic Powerlifting Cup  \n",
              "\n",
              "[445363 rows x 14 columns]"
            ],
            "text/html": [
              "\n",
              "  <div id=\"df-8616915b-3b3c-4418-8f17-14ddc7473230\">\n",
              "    <div class=\"colab-df-container\">\n",
              "      <div>\n",
              "<style scoped>\n",
              "    .dataframe tbody tr th:only-of-type {\n",
              "        vertical-align: middle;\n",
              "    }\n",
              "\n",
              "    .dataframe tbody tr th {\n",
              "        vertical-align: top;\n",
              "    }\n",
              "\n",
              "    .dataframe thead th {\n",
              "        text-align: right;\n",
              "    }\n",
              "</style>\n",
              "<table border=\"1\" class=\"dataframe\">\n",
              "  <thead>\n",
              "    <tr style=\"text-align: right;\">\n",
              "      <th></th>\n",
              "      <th>Name</th>\n",
              "      <th>Sex</th>\n",
              "      <th>isSBD</th>\n",
              "      <th>Equipment</th>\n",
              "      <th>Age</th>\n",
              "      <th>BodyweightKg</th>\n",
              "      <th>Squat</th>\n",
              "      <th>Bench</th>\n",
              "      <th>Dead</th>\n",
              "      <th>TotalKg</th>\n",
              "      <th>Wilks</th>\n",
              "      <th>Tested</th>\n",
              "      <th>MeetCountry</th>\n",
              "      <th>MeetName</th>\n",
              "    </tr>\n",
              "  </thead>\n",
              "  <tbody>\n",
              "    <tr>\n",
              "      <th>0</th>\n",
              "      <td>Abbie Murphy</td>\n",
              "      <td>F</td>\n",
              "      <td>SBD</td>\n",
              "      <td>Wraps</td>\n",
              "      <td>29.0</td>\n",
              "      <td>59.80</td>\n",
              "      <td>105.0</td>\n",
              "      <td>55.0</td>\n",
              "      <td>130.0</td>\n",
              "      <td>290.0</td>\n",
              "      <td>324.16</td>\n",
              "      <td>NaN</td>\n",
              "      <td>Australia</td>\n",
              "      <td>Melbourne Cup</td>\n",
              "    </tr>\n",
              "    <tr>\n",
              "      <th>1</th>\n",
              "      <td>Abbie Tuong</td>\n",
              "      <td>F</td>\n",
              "      <td>SBD</td>\n",
              "      <td>Wraps</td>\n",
              "      <td>29.0</td>\n",
              "      <td>58.50</td>\n",
              "      <td>120.0</td>\n",
              "      <td>67.5</td>\n",
              "      <td>145.0</td>\n",
              "      <td>332.5</td>\n",
              "      <td>378.07</td>\n",
              "      <td>NaN</td>\n",
              "      <td>Australia</td>\n",
              "      <td>Melbourne Cup</td>\n",
              "    </tr>\n",
              "    <tr>\n",
              "      <th>3</th>\n",
              "      <td>Amy Moldenhauer</td>\n",
              "      <td>F</td>\n",
              "      <td>SBD</td>\n",
              "      <td>Wraps</td>\n",
              "      <td>23.0</td>\n",
              "      <td>60.00</td>\n",
              "      <td>105.0</td>\n",
              "      <td>72.5</td>\n",
              "      <td>132.5</td>\n",
              "      <td>310.0</td>\n",
              "      <td>345.61</td>\n",
              "      <td>NaN</td>\n",
              "      <td>Australia</td>\n",
              "      <td>Melbourne Cup</td>\n",
              "    </tr>\n",
              "    <tr>\n",
              "      <th>4</th>\n",
              "      <td>Andrea Rowan</td>\n",
              "      <td>F</td>\n",
              "      <td>SBD</td>\n",
              "      <td>Wraps</td>\n",
              "      <td>45.0</td>\n",
              "      <td>104.00</td>\n",
              "      <td>140.0</td>\n",
              "      <td>80.0</td>\n",
              "      <td>170.0</td>\n",
              "      <td>390.0</td>\n",
              "      <td>321.25</td>\n",
              "      <td>NaN</td>\n",
              "      <td>Australia</td>\n",
              "      <td>Melbourne Cup</td>\n",
              "    </tr>\n",
              "    <tr>\n",
              "      <th>5</th>\n",
              "      <td>April Alvarez</td>\n",
              "      <td>F</td>\n",
              "      <td>SBD</td>\n",
              "      <td>Wraps</td>\n",
              "      <td>37.0</td>\n",
              "      <td>74.00</td>\n",
              "      <td>142.5</td>\n",
              "      <td>82.5</td>\n",
              "      <td>145.0</td>\n",
              "      <td>370.0</td>\n",
              "      <td>354.74</td>\n",
              "      <td>NaN</td>\n",
              "      <td>Australia</td>\n",
              "      <td>Melbourne Cup</td>\n",
              "    </tr>\n",
              "    <tr>\n",
              "      <th>...</th>\n",
              "      <td>...</td>\n",
              "      <td>...</td>\n",
              "      <td>...</td>\n",
              "      <td>...</td>\n",
              "      <td>...</td>\n",
              "      <td>...</td>\n",
              "      <td>...</td>\n",
              "      <td>...</td>\n",
              "      <td>...</td>\n",
              "      <td>...</td>\n",
              "      <td>...</td>\n",
              "      <td>...</td>\n",
              "      <td>...</td>\n",
              "      <td>...</td>\n",
              "    </tr>\n",
              "    <tr>\n",
              "      <th>1423345</th>\n",
              "      <td>Łukasz Głowacz</td>\n",
              "      <td>M</td>\n",
              "      <td>SBD</td>\n",
              "      <td>Raw</td>\n",
              "      <td>40.5</td>\n",
              "      <td>82.75</td>\n",
              "      <td>170.0</td>\n",
              "      <td>130.0</td>\n",
              "      <td>200.0</td>\n",
              "      <td>500.0</td>\n",
              "      <td>334.35</td>\n",
              "      <td>Yes</td>\n",
              "      <td>Poland</td>\n",
              "      <td>Polish Classic Powerlifting Cup</td>\n",
              "    </tr>\n",
              "    <tr>\n",
              "      <th>1423347</th>\n",
              "      <td>Adam Jasiński</td>\n",
              "      <td>M</td>\n",
              "      <td>SBD</td>\n",
              "      <td>Raw</td>\n",
              "      <td>65.5</td>\n",
              "      <td>78.00</td>\n",
              "      <td>215.0</td>\n",
              "      <td>115.0</td>\n",
              "      <td>207.5</td>\n",
              "      <td>537.5</td>\n",
              "      <td>372.98</td>\n",
              "      <td>Yes</td>\n",
              "      <td>Poland</td>\n",
              "      <td>Polish Classic Powerlifting Cup</td>\n",
              "    </tr>\n",
              "    <tr>\n",
              "      <th>1423349</th>\n",
              "      <td>Marian Cafalik</td>\n",
              "      <td>M</td>\n",
              "      <td>SBD</td>\n",
              "      <td>Raw</td>\n",
              "      <td>60.5</td>\n",
              "      <td>73.50</td>\n",
              "      <td>175.0</td>\n",
              "      <td>87.5</td>\n",
              "      <td>190.0</td>\n",
              "      <td>452.5</td>\n",
              "      <td>327.07</td>\n",
              "      <td>Yes</td>\n",
              "      <td>Poland</td>\n",
              "      <td>Polish Classic Powerlifting Cup</td>\n",
              "    </tr>\n",
              "    <tr>\n",
              "      <th>1423350</th>\n",
              "      <td>Marian Piwowarczyk</td>\n",
              "      <td>M</td>\n",
              "      <td>SBD</td>\n",
              "      <td>Raw</td>\n",
              "      <td>55.5</td>\n",
              "      <td>63.50</td>\n",
              "      <td>110.0</td>\n",
              "      <td>95.0</td>\n",
              "      <td>170.0</td>\n",
              "      <td>375.0</td>\n",
              "      <td>304.16</td>\n",
              "      <td>Yes</td>\n",
              "      <td>Poland</td>\n",
              "      <td>Polish Classic Powerlifting Cup</td>\n",
              "    </tr>\n",
              "    <tr>\n",
              "      <th>1423351</th>\n",
              "      <td>Andrzej Bryniarski</td>\n",
              "      <td>M</td>\n",
              "      <td>SBD</td>\n",
              "      <td>Raw</td>\n",
              "      <td>62.5</td>\n",
              "      <td>94.40</td>\n",
              "      <td>160.0</td>\n",
              "      <td>100.0</td>\n",
              "      <td>180.0</td>\n",
              "      <td>440.0</td>\n",
              "      <td>274.48</td>\n",
              "      <td>Yes</td>\n",
              "      <td>Poland</td>\n",
              "      <td>Polish Classic Powerlifting Cup</td>\n",
              "    </tr>\n",
              "  </tbody>\n",
              "</table>\n",
              "<p>445363 rows × 14 columns</p>\n",
              "</div>\n",
              "      <button class=\"colab-df-convert\" onclick=\"convertToInteractive('df-8616915b-3b3c-4418-8f17-14ddc7473230')\"\n",
              "              title=\"Convert this dataframe to an interactive table.\"\n",
              "              style=\"display:none;\">\n",
              "        \n",
              "  <svg xmlns=\"http://www.w3.org/2000/svg\" height=\"24px\"viewBox=\"0 0 24 24\"\n",
              "       width=\"24px\">\n",
              "    <path d=\"M0 0h24v24H0V0z\" fill=\"none\"/>\n",
              "    <path d=\"M18.56 5.44l.94 2.06.94-2.06 2.06-.94-2.06-.94-.94-2.06-.94 2.06-2.06.94zm-11 1L8.5 8.5l.94-2.06 2.06-.94-2.06-.94L8.5 2.5l-.94 2.06-2.06.94zm10 10l.94 2.06.94-2.06 2.06-.94-2.06-.94-.94-2.06-.94 2.06-2.06.94z\"/><path d=\"M17.41 7.96l-1.37-1.37c-.4-.4-.92-.59-1.43-.59-.52 0-1.04.2-1.43.59L10.3 9.45l-7.72 7.72c-.78.78-.78 2.05 0 2.83L4 21.41c.39.39.9.59 1.41.59.51 0 1.02-.2 1.41-.59l7.78-7.78 2.81-2.81c.8-.78.8-2.07 0-2.86zM5.41 20L4 18.59l7.72-7.72 1.47 1.35L5.41 20z\"/>\n",
              "  </svg>\n",
              "      </button>\n",
              "      \n",
              "  <style>\n",
              "    .colab-df-container {\n",
              "      display:flex;\n",
              "      flex-wrap:wrap;\n",
              "      gap: 12px;\n",
              "    }\n",
              "\n",
              "    .colab-df-convert {\n",
              "      background-color: #E8F0FE;\n",
              "      border: none;\n",
              "      border-radius: 50%;\n",
              "      cursor: pointer;\n",
              "      display: none;\n",
              "      fill: #1967D2;\n",
              "      height: 32px;\n",
              "      padding: 0 0 0 0;\n",
              "      width: 32px;\n",
              "    }\n",
              "\n",
              "    .colab-df-convert:hover {\n",
              "      background-color: #E2EBFA;\n",
              "      box-shadow: 0px 1px 2px rgba(60, 64, 67, 0.3), 0px 1px 3px 1px rgba(60, 64, 67, 0.15);\n",
              "      fill: #174EA6;\n",
              "    }\n",
              "\n",
              "    [theme=dark] .colab-df-convert {\n",
              "      background-color: #3B4455;\n",
              "      fill: #D2E3FC;\n",
              "    }\n",
              "\n",
              "    [theme=dark] .colab-df-convert:hover {\n",
              "      background-color: #434B5C;\n",
              "      box-shadow: 0px 1px 3px 1px rgba(0, 0, 0, 0.15);\n",
              "      filter: drop-shadow(0px 1px 2px rgba(0, 0, 0, 0.3));\n",
              "      fill: #FFFFFF;\n",
              "    }\n",
              "  </style>\n",
              "\n",
              "      <script>\n",
              "        const buttonEl =\n",
              "          document.querySelector('#df-8616915b-3b3c-4418-8f17-14ddc7473230 button.colab-df-convert');\n",
              "        buttonEl.style.display =\n",
              "          google.colab.kernel.accessAllowed ? 'block' : 'none';\n",
              "\n",
              "        async function convertToInteractive(key) {\n",
              "          const element = document.querySelector('#df-8616915b-3b3c-4418-8f17-14ddc7473230');\n",
              "          const dataTable =\n",
              "            await google.colab.kernel.invokeFunction('convertToInteractive',\n",
              "                                                     [key], {});\n",
              "          if (!dataTable) return;\n",
              "\n",
              "          const docLinkHtml = 'Like what you see? Visit the ' +\n",
              "            '<a target=\"_blank\" href=https://colab.research.google.com/notebooks/data_table.ipynb>data table notebook</a>'\n",
              "            + ' to learn more about interactive tables.';\n",
              "          element.innerHTML = '';\n",
              "          dataTable['output_type'] = 'display_data';\n",
              "          await google.colab.output.renderOutput(dataTable, element);\n",
              "          const docLink = document.createElement('div');\n",
              "          docLink.innerHTML = docLinkHtml;\n",
              "          element.appendChild(docLink);\n",
              "        }\n",
              "      </script>\n",
              "    </div>\n",
              "  </div>\n",
              "  "
            ]
          },
          "metadata": {},
          "execution_count": 22
        }
      ]
    },
    {
      "cell_type": "code",
      "source": [
        "DF_notSBD = DF[DF['isSBD'] != 'SBD'].index"
      ],
      "metadata": {
        "id": "SEt90pLbtQhU"
      },
      "execution_count": 23,
      "outputs": []
    },
    {
      "cell_type": "code",
      "source": [
        "DF_notSBD # 결측치 없애는 위 과정에서 일부 운동만 한 경우도 자연스럽게 없어진듯 함"
      ],
      "metadata": {
        "colab": {
          "base_uri": "https://localhost:8080/"
        },
        "id": "2usE5zxouJ7t",
        "outputId": "034373b0-ae29-41f6-9325-37d685c5b986"
      },
      "execution_count": 24,
      "outputs": [
        {
          "output_type": "execute_result",
          "data": {
            "text/plain": [
              "Int64Index([], dtype='int64')"
            ]
          },
          "metadata": {},
          "execution_count": 24
        }
      ]
    },
    {
      "cell_type": "code",
      "source": [
        "DF.Tested.replace({np.nan : 0, 'Yes' : 1},inplace=True) # 도핑 여부 표시 변경"
      ],
      "metadata": {
        "id": "XpIlcXEqwCOt"
      },
      "execution_count": 25,
      "outputs": []
    },
    {
      "cell_type": "code",
      "source": [
        "DF.reset_index(drop=True) # index 최종 정렬"
      ],
      "metadata": {
        "colab": {
          "base_uri": "https://localhost:8080/",
          "height": 835
        },
        "id": "JtJO0cwsxzNl",
        "outputId": "309b852c-27ba-4e3c-97af-2246e87cf79d"
      },
      "execution_count": 26,
      "outputs": [
        {
          "output_type": "execute_result",
          "data": {
            "text/plain": [
              "                      Name Sex isSBD Equipment   Age  BodyweightKg  Squat  \\\n",
              "0             Abbie Murphy   F   SBD     Wraps  29.0         59.80  105.0   \n",
              "1              Abbie Tuong   F   SBD     Wraps  29.0         58.50  120.0   \n",
              "2          Amy Moldenhauer   F   SBD     Wraps  23.0         60.00  105.0   \n",
              "3             Andrea Rowan   F   SBD     Wraps  45.0        104.00  140.0   \n",
              "4            April Alvarez   F   SBD     Wraps  37.0         74.00  142.5   \n",
              "...                    ...  ..   ...       ...   ...           ...    ...   \n",
              "445358      Łukasz Głowacz   M   SBD       Raw  40.5         82.75  170.0   \n",
              "445359       Adam Jasiński   M   SBD       Raw  65.5         78.00  215.0   \n",
              "445360      Marian Cafalik   M   SBD       Raw  60.5         73.50  175.0   \n",
              "445361  Marian Piwowarczyk   M   SBD       Raw  55.5         63.50  110.0   \n",
              "445362  Andrzej Bryniarski   M   SBD       Raw  62.5         94.40  160.0   \n",
              "\n",
              "        Bench   Dead  TotalKg   Wilks  Tested MeetCountry  \\\n",
              "0        55.0  130.0    290.0  324.16       0   Australia   \n",
              "1        67.5  145.0    332.5  378.07       0   Australia   \n",
              "2        72.5  132.5    310.0  345.61       0   Australia   \n",
              "3        80.0  170.0    390.0  321.25       0   Australia   \n",
              "4        82.5  145.0    370.0  354.74       0   Australia   \n",
              "...       ...    ...      ...     ...     ...         ...   \n",
              "445358  130.0  200.0    500.0  334.35       1      Poland   \n",
              "445359  115.0  207.5    537.5  372.98       1      Poland   \n",
              "445360   87.5  190.0    452.5  327.07       1      Poland   \n",
              "445361   95.0  170.0    375.0  304.16       1      Poland   \n",
              "445362  100.0  180.0    440.0  274.48       1      Poland   \n",
              "\n",
              "                               MeetName  \n",
              "0                         Melbourne Cup  \n",
              "1                         Melbourne Cup  \n",
              "2                         Melbourne Cup  \n",
              "3                         Melbourne Cup  \n",
              "4                         Melbourne Cup  \n",
              "...                                 ...  \n",
              "445358  Polish Classic Powerlifting Cup  \n",
              "445359  Polish Classic Powerlifting Cup  \n",
              "445360  Polish Classic Powerlifting Cup  \n",
              "445361  Polish Classic Powerlifting Cup  \n",
              "445362  Polish Classic Powerlifting Cup  \n",
              "\n",
              "[445363 rows x 14 columns]"
            ],
            "text/html": [
              "\n",
              "  <div id=\"df-f866d055-bfd6-4ca2-a1a4-baa725c0f9f8\">\n",
              "    <div class=\"colab-df-container\">\n",
              "      <div>\n",
              "<style scoped>\n",
              "    .dataframe tbody tr th:only-of-type {\n",
              "        vertical-align: middle;\n",
              "    }\n",
              "\n",
              "    .dataframe tbody tr th {\n",
              "        vertical-align: top;\n",
              "    }\n",
              "\n",
              "    .dataframe thead th {\n",
              "        text-align: right;\n",
              "    }\n",
              "</style>\n",
              "<table border=\"1\" class=\"dataframe\">\n",
              "  <thead>\n",
              "    <tr style=\"text-align: right;\">\n",
              "      <th></th>\n",
              "      <th>Name</th>\n",
              "      <th>Sex</th>\n",
              "      <th>isSBD</th>\n",
              "      <th>Equipment</th>\n",
              "      <th>Age</th>\n",
              "      <th>BodyweightKg</th>\n",
              "      <th>Squat</th>\n",
              "      <th>Bench</th>\n",
              "      <th>Dead</th>\n",
              "      <th>TotalKg</th>\n",
              "      <th>Wilks</th>\n",
              "      <th>Tested</th>\n",
              "      <th>MeetCountry</th>\n",
              "      <th>MeetName</th>\n",
              "    </tr>\n",
              "  </thead>\n",
              "  <tbody>\n",
              "    <tr>\n",
              "      <th>0</th>\n",
              "      <td>Abbie Murphy</td>\n",
              "      <td>F</td>\n",
              "      <td>SBD</td>\n",
              "      <td>Wraps</td>\n",
              "      <td>29.0</td>\n",
              "      <td>59.80</td>\n",
              "      <td>105.0</td>\n",
              "      <td>55.0</td>\n",
              "      <td>130.0</td>\n",
              "      <td>290.0</td>\n",
              "      <td>324.16</td>\n",
              "      <td>0</td>\n",
              "      <td>Australia</td>\n",
              "      <td>Melbourne Cup</td>\n",
              "    </tr>\n",
              "    <tr>\n",
              "      <th>1</th>\n",
              "      <td>Abbie Tuong</td>\n",
              "      <td>F</td>\n",
              "      <td>SBD</td>\n",
              "      <td>Wraps</td>\n",
              "      <td>29.0</td>\n",
              "      <td>58.50</td>\n",
              "      <td>120.0</td>\n",
              "      <td>67.5</td>\n",
              "      <td>145.0</td>\n",
              "      <td>332.5</td>\n",
              "      <td>378.07</td>\n",
              "      <td>0</td>\n",
              "      <td>Australia</td>\n",
              "      <td>Melbourne Cup</td>\n",
              "    </tr>\n",
              "    <tr>\n",
              "      <th>2</th>\n",
              "      <td>Amy Moldenhauer</td>\n",
              "      <td>F</td>\n",
              "      <td>SBD</td>\n",
              "      <td>Wraps</td>\n",
              "      <td>23.0</td>\n",
              "      <td>60.00</td>\n",
              "      <td>105.0</td>\n",
              "      <td>72.5</td>\n",
              "      <td>132.5</td>\n",
              "      <td>310.0</td>\n",
              "      <td>345.61</td>\n",
              "      <td>0</td>\n",
              "      <td>Australia</td>\n",
              "      <td>Melbourne Cup</td>\n",
              "    </tr>\n",
              "    <tr>\n",
              "      <th>3</th>\n",
              "      <td>Andrea Rowan</td>\n",
              "      <td>F</td>\n",
              "      <td>SBD</td>\n",
              "      <td>Wraps</td>\n",
              "      <td>45.0</td>\n",
              "      <td>104.00</td>\n",
              "      <td>140.0</td>\n",
              "      <td>80.0</td>\n",
              "      <td>170.0</td>\n",
              "      <td>390.0</td>\n",
              "      <td>321.25</td>\n",
              "      <td>0</td>\n",
              "      <td>Australia</td>\n",
              "      <td>Melbourne Cup</td>\n",
              "    </tr>\n",
              "    <tr>\n",
              "      <th>4</th>\n",
              "      <td>April Alvarez</td>\n",
              "      <td>F</td>\n",
              "      <td>SBD</td>\n",
              "      <td>Wraps</td>\n",
              "      <td>37.0</td>\n",
              "      <td>74.00</td>\n",
              "      <td>142.5</td>\n",
              "      <td>82.5</td>\n",
              "      <td>145.0</td>\n",
              "      <td>370.0</td>\n",
              "      <td>354.74</td>\n",
              "      <td>0</td>\n",
              "      <td>Australia</td>\n",
              "      <td>Melbourne Cup</td>\n",
              "    </tr>\n",
              "    <tr>\n",
              "      <th>...</th>\n",
              "      <td>...</td>\n",
              "      <td>...</td>\n",
              "      <td>...</td>\n",
              "      <td>...</td>\n",
              "      <td>...</td>\n",
              "      <td>...</td>\n",
              "      <td>...</td>\n",
              "      <td>...</td>\n",
              "      <td>...</td>\n",
              "      <td>...</td>\n",
              "      <td>...</td>\n",
              "      <td>...</td>\n",
              "      <td>...</td>\n",
              "      <td>...</td>\n",
              "    </tr>\n",
              "    <tr>\n",
              "      <th>445358</th>\n",
              "      <td>Łukasz Głowacz</td>\n",
              "      <td>M</td>\n",
              "      <td>SBD</td>\n",
              "      <td>Raw</td>\n",
              "      <td>40.5</td>\n",
              "      <td>82.75</td>\n",
              "      <td>170.0</td>\n",
              "      <td>130.0</td>\n",
              "      <td>200.0</td>\n",
              "      <td>500.0</td>\n",
              "      <td>334.35</td>\n",
              "      <td>1</td>\n",
              "      <td>Poland</td>\n",
              "      <td>Polish Classic Powerlifting Cup</td>\n",
              "    </tr>\n",
              "    <tr>\n",
              "      <th>445359</th>\n",
              "      <td>Adam Jasiński</td>\n",
              "      <td>M</td>\n",
              "      <td>SBD</td>\n",
              "      <td>Raw</td>\n",
              "      <td>65.5</td>\n",
              "      <td>78.00</td>\n",
              "      <td>215.0</td>\n",
              "      <td>115.0</td>\n",
              "      <td>207.5</td>\n",
              "      <td>537.5</td>\n",
              "      <td>372.98</td>\n",
              "      <td>1</td>\n",
              "      <td>Poland</td>\n",
              "      <td>Polish Classic Powerlifting Cup</td>\n",
              "    </tr>\n",
              "    <tr>\n",
              "      <th>445360</th>\n",
              "      <td>Marian Cafalik</td>\n",
              "      <td>M</td>\n",
              "      <td>SBD</td>\n",
              "      <td>Raw</td>\n",
              "      <td>60.5</td>\n",
              "      <td>73.50</td>\n",
              "      <td>175.0</td>\n",
              "      <td>87.5</td>\n",
              "      <td>190.0</td>\n",
              "      <td>452.5</td>\n",
              "      <td>327.07</td>\n",
              "      <td>1</td>\n",
              "      <td>Poland</td>\n",
              "      <td>Polish Classic Powerlifting Cup</td>\n",
              "    </tr>\n",
              "    <tr>\n",
              "      <th>445361</th>\n",
              "      <td>Marian Piwowarczyk</td>\n",
              "      <td>M</td>\n",
              "      <td>SBD</td>\n",
              "      <td>Raw</td>\n",
              "      <td>55.5</td>\n",
              "      <td>63.50</td>\n",
              "      <td>110.0</td>\n",
              "      <td>95.0</td>\n",
              "      <td>170.0</td>\n",
              "      <td>375.0</td>\n",
              "      <td>304.16</td>\n",
              "      <td>1</td>\n",
              "      <td>Poland</td>\n",
              "      <td>Polish Classic Powerlifting Cup</td>\n",
              "    </tr>\n",
              "    <tr>\n",
              "      <th>445362</th>\n",
              "      <td>Andrzej Bryniarski</td>\n",
              "      <td>M</td>\n",
              "      <td>SBD</td>\n",
              "      <td>Raw</td>\n",
              "      <td>62.5</td>\n",
              "      <td>94.40</td>\n",
              "      <td>160.0</td>\n",
              "      <td>100.0</td>\n",
              "      <td>180.0</td>\n",
              "      <td>440.0</td>\n",
              "      <td>274.48</td>\n",
              "      <td>1</td>\n",
              "      <td>Poland</td>\n",
              "      <td>Polish Classic Powerlifting Cup</td>\n",
              "    </tr>\n",
              "  </tbody>\n",
              "</table>\n",
              "<p>445363 rows × 14 columns</p>\n",
              "</div>\n",
              "      <button class=\"colab-df-convert\" onclick=\"convertToInteractive('df-f866d055-bfd6-4ca2-a1a4-baa725c0f9f8')\"\n",
              "              title=\"Convert this dataframe to an interactive table.\"\n",
              "              style=\"display:none;\">\n",
              "        \n",
              "  <svg xmlns=\"http://www.w3.org/2000/svg\" height=\"24px\"viewBox=\"0 0 24 24\"\n",
              "       width=\"24px\">\n",
              "    <path d=\"M0 0h24v24H0V0z\" fill=\"none\"/>\n",
              "    <path d=\"M18.56 5.44l.94 2.06.94-2.06 2.06-.94-2.06-.94-.94-2.06-.94 2.06-2.06.94zm-11 1L8.5 8.5l.94-2.06 2.06-.94-2.06-.94L8.5 2.5l-.94 2.06-2.06.94zm10 10l.94 2.06.94-2.06 2.06-.94-2.06-.94-.94-2.06-.94 2.06-2.06.94z\"/><path d=\"M17.41 7.96l-1.37-1.37c-.4-.4-.92-.59-1.43-.59-.52 0-1.04.2-1.43.59L10.3 9.45l-7.72 7.72c-.78.78-.78 2.05 0 2.83L4 21.41c.39.39.9.59 1.41.59.51 0 1.02-.2 1.41-.59l7.78-7.78 2.81-2.81c.8-.78.8-2.07 0-2.86zM5.41 20L4 18.59l7.72-7.72 1.47 1.35L5.41 20z\"/>\n",
              "  </svg>\n",
              "      </button>\n",
              "      \n",
              "  <style>\n",
              "    .colab-df-container {\n",
              "      display:flex;\n",
              "      flex-wrap:wrap;\n",
              "      gap: 12px;\n",
              "    }\n",
              "\n",
              "    .colab-df-convert {\n",
              "      background-color: #E8F0FE;\n",
              "      border: none;\n",
              "      border-radius: 50%;\n",
              "      cursor: pointer;\n",
              "      display: none;\n",
              "      fill: #1967D2;\n",
              "      height: 32px;\n",
              "      padding: 0 0 0 0;\n",
              "      width: 32px;\n",
              "    }\n",
              "\n",
              "    .colab-df-convert:hover {\n",
              "      background-color: #E2EBFA;\n",
              "      box-shadow: 0px 1px 2px rgba(60, 64, 67, 0.3), 0px 1px 3px 1px rgba(60, 64, 67, 0.15);\n",
              "      fill: #174EA6;\n",
              "    }\n",
              "\n",
              "    [theme=dark] .colab-df-convert {\n",
              "      background-color: #3B4455;\n",
              "      fill: #D2E3FC;\n",
              "    }\n",
              "\n",
              "    [theme=dark] .colab-df-convert:hover {\n",
              "      background-color: #434B5C;\n",
              "      box-shadow: 0px 1px 3px 1px rgba(0, 0, 0, 0.15);\n",
              "      filter: drop-shadow(0px 1px 2px rgba(0, 0, 0, 0.3));\n",
              "      fill: #FFFFFF;\n",
              "    }\n",
              "  </style>\n",
              "\n",
              "      <script>\n",
              "        const buttonEl =\n",
              "          document.querySelector('#df-f866d055-bfd6-4ca2-a1a4-baa725c0f9f8 button.colab-df-convert');\n",
              "        buttonEl.style.display =\n",
              "          google.colab.kernel.accessAllowed ? 'block' : 'none';\n",
              "\n",
              "        async function convertToInteractive(key) {\n",
              "          const element = document.querySelector('#df-f866d055-bfd6-4ca2-a1a4-baa725c0f9f8');\n",
              "          const dataTable =\n",
              "            await google.colab.kernel.invokeFunction('convertToInteractive',\n",
              "                                                     [key], {});\n",
              "          if (!dataTable) return;\n",
              "\n",
              "          const docLinkHtml = 'Like what you see? Visit the ' +\n",
              "            '<a target=\"_blank\" href=https://colab.research.google.com/notebooks/data_table.ipynb>data table notebook</a>'\n",
              "            + ' to learn more about interactive tables.';\n",
              "          element.innerHTML = '';\n",
              "          dataTable['output_type'] = 'display_data';\n",
              "          await google.colab.output.renderOutput(dataTable, element);\n",
              "          const docLink = document.createElement('div');\n",
              "          docLink.innerHTML = docLinkHtml;\n",
              "          element.appendChild(docLink);\n",
              "        }\n",
              "      </script>\n",
              "    </div>\n",
              "  </div>\n",
              "  "
            ]
          },
          "metadata": {},
          "execution_count": 26
        }
      ]
    },
    {
      "cell_type": "code",
      "source": [
        "str_expr = \"Age <= 11\"     # 나이가 11<=이다 (비교연산자 >=)\n",
        "DF_q = DF.query(str_expr).index  # 조건 부합 데이터 추출"
      ],
      "metadata": {
        "id": "WSGrEDga0ELb"
      },
      "execution_count": 27,
      "outputs": []
    },
    {
      "cell_type": "code",
      "source": [
        "DF_q"
      ],
      "metadata": {
        "colab": {
          "base_uri": "https://localhost:8080/"
        },
        "id": "b0P11sSY1Oh0",
        "outputId": "f6e106a1-99ee-487b-ac57-9bcba064c19d"
      },
      "execution_count": 28,
      "outputs": [
        {
          "output_type": "execute_result",
          "data": {
            "text/plain": [
              "Int64Index([  22223,   22729,   25985,   26805,   28337,   28566,   32884,\n",
              "              32887,   35837,   35839,\n",
              "            ...\n",
              "            1405393, 1407318, 1407319, 1408296, 1414214, 1414223, 1414294,\n",
              "            1414681, 1414783, 1422369],\n",
              "           dtype='int64', length=705)"
            ]
          },
          "metadata": {},
          "execution_count": 28
        }
      ]
    },
    {
      "cell_type": "code",
      "source": [
        "DF = DF.drop(DF_q).reset_index(drop=True)"
      ],
      "metadata": {
        "id": "gQdANbys0wqj"
      },
      "execution_count": 29,
      "outputs": []
    },
    {
      "cell_type": "code",
      "source": [
        "DF.shape # 전처리 끝나고 최종 정리된 사이즈"
      ],
      "metadata": {
        "colab": {
          "base_uri": "https://localhost:8080/"
        },
        "id": "dyofKBWFz_oQ",
        "outputId": "b212c0ac-08d3-403b-d1d0-a49ef50c72ba"
      },
      "execution_count": 30,
      "outputs": [
        {
          "output_type": "execute_result",
          "data": {
            "text/plain": [
              "(444658, 14)"
            ]
          },
          "metadata": {},
          "execution_count": 30
        }
      ]
    },
    {
      "cell_type": "code",
      "source": [
        "DF"
      ],
      "metadata": {
        "colab": {
          "base_uri": "https://localhost:8080/",
          "height": 835
        },
        "id": "vCRQ4HMU2BRd",
        "outputId": "2699f149-ebe6-420b-eb7d-93e8f3ffc22e"
      },
      "execution_count": 31,
      "outputs": [
        {
          "output_type": "execute_result",
          "data": {
            "text/plain": [
              "                      Name Sex isSBD Equipment   Age  BodyweightKg  Squat  \\\n",
              "0             Abbie Murphy   F   SBD     Wraps  29.0         59.80  105.0   \n",
              "1              Abbie Tuong   F   SBD     Wraps  29.0         58.50  120.0   \n",
              "2          Amy Moldenhauer   F   SBD     Wraps  23.0         60.00  105.0   \n",
              "3             Andrea Rowan   F   SBD     Wraps  45.0        104.00  140.0   \n",
              "4            April Alvarez   F   SBD     Wraps  37.0         74.00  142.5   \n",
              "...                    ...  ..   ...       ...   ...           ...    ...   \n",
              "444653      Łukasz Głowacz   M   SBD       Raw  40.5         82.75  170.0   \n",
              "444654       Adam Jasiński   M   SBD       Raw  65.5         78.00  215.0   \n",
              "444655      Marian Cafalik   M   SBD       Raw  60.5         73.50  175.0   \n",
              "444656  Marian Piwowarczyk   M   SBD       Raw  55.5         63.50  110.0   \n",
              "444657  Andrzej Bryniarski   M   SBD       Raw  62.5         94.40  160.0   \n",
              "\n",
              "        Bench   Dead  TotalKg   Wilks  Tested MeetCountry  \\\n",
              "0        55.0  130.0    290.0  324.16       0   Australia   \n",
              "1        67.5  145.0    332.5  378.07       0   Australia   \n",
              "2        72.5  132.5    310.0  345.61       0   Australia   \n",
              "3        80.0  170.0    390.0  321.25       0   Australia   \n",
              "4        82.5  145.0    370.0  354.74       0   Australia   \n",
              "...       ...    ...      ...     ...     ...         ...   \n",
              "444653  130.0  200.0    500.0  334.35       1      Poland   \n",
              "444654  115.0  207.5    537.5  372.98       1      Poland   \n",
              "444655   87.5  190.0    452.5  327.07       1      Poland   \n",
              "444656   95.0  170.0    375.0  304.16       1      Poland   \n",
              "444657  100.0  180.0    440.0  274.48       1      Poland   \n",
              "\n",
              "                               MeetName  \n",
              "0                         Melbourne Cup  \n",
              "1                         Melbourne Cup  \n",
              "2                         Melbourne Cup  \n",
              "3                         Melbourne Cup  \n",
              "4                         Melbourne Cup  \n",
              "...                                 ...  \n",
              "444653  Polish Classic Powerlifting Cup  \n",
              "444654  Polish Classic Powerlifting Cup  \n",
              "444655  Polish Classic Powerlifting Cup  \n",
              "444656  Polish Classic Powerlifting Cup  \n",
              "444657  Polish Classic Powerlifting Cup  \n",
              "\n",
              "[444658 rows x 14 columns]"
            ],
            "text/html": [
              "\n",
              "  <div id=\"df-884fb2d9-65d8-452d-bdc3-7c5c93d285c5\">\n",
              "    <div class=\"colab-df-container\">\n",
              "      <div>\n",
              "<style scoped>\n",
              "    .dataframe tbody tr th:only-of-type {\n",
              "        vertical-align: middle;\n",
              "    }\n",
              "\n",
              "    .dataframe tbody tr th {\n",
              "        vertical-align: top;\n",
              "    }\n",
              "\n",
              "    .dataframe thead th {\n",
              "        text-align: right;\n",
              "    }\n",
              "</style>\n",
              "<table border=\"1\" class=\"dataframe\">\n",
              "  <thead>\n",
              "    <tr style=\"text-align: right;\">\n",
              "      <th></th>\n",
              "      <th>Name</th>\n",
              "      <th>Sex</th>\n",
              "      <th>isSBD</th>\n",
              "      <th>Equipment</th>\n",
              "      <th>Age</th>\n",
              "      <th>BodyweightKg</th>\n",
              "      <th>Squat</th>\n",
              "      <th>Bench</th>\n",
              "      <th>Dead</th>\n",
              "      <th>TotalKg</th>\n",
              "      <th>Wilks</th>\n",
              "      <th>Tested</th>\n",
              "      <th>MeetCountry</th>\n",
              "      <th>MeetName</th>\n",
              "    </tr>\n",
              "  </thead>\n",
              "  <tbody>\n",
              "    <tr>\n",
              "      <th>0</th>\n",
              "      <td>Abbie Murphy</td>\n",
              "      <td>F</td>\n",
              "      <td>SBD</td>\n",
              "      <td>Wraps</td>\n",
              "      <td>29.0</td>\n",
              "      <td>59.80</td>\n",
              "      <td>105.0</td>\n",
              "      <td>55.0</td>\n",
              "      <td>130.0</td>\n",
              "      <td>290.0</td>\n",
              "      <td>324.16</td>\n",
              "      <td>0</td>\n",
              "      <td>Australia</td>\n",
              "      <td>Melbourne Cup</td>\n",
              "    </tr>\n",
              "    <tr>\n",
              "      <th>1</th>\n",
              "      <td>Abbie Tuong</td>\n",
              "      <td>F</td>\n",
              "      <td>SBD</td>\n",
              "      <td>Wraps</td>\n",
              "      <td>29.0</td>\n",
              "      <td>58.50</td>\n",
              "      <td>120.0</td>\n",
              "      <td>67.5</td>\n",
              "      <td>145.0</td>\n",
              "      <td>332.5</td>\n",
              "      <td>378.07</td>\n",
              "      <td>0</td>\n",
              "      <td>Australia</td>\n",
              "      <td>Melbourne Cup</td>\n",
              "    </tr>\n",
              "    <tr>\n",
              "      <th>2</th>\n",
              "      <td>Amy Moldenhauer</td>\n",
              "      <td>F</td>\n",
              "      <td>SBD</td>\n",
              "      <td>Wraps</td>\n",
              "      <td>23.0</td>\n",
              "      <td>60.00</td>\n",
              "      <td>105.0</td>\n",
              "      <td>72.5</td>\n",
              "      <td>132.5</td>\n",
              "      <td>310.0</td>\n",
              "      <td>345.61</td>\n",
              "      <td>0</td>\n",
              "      <td>Australia</td>\n",
              "      <td>Melbourne Cup</td>\n",
              "    </tr>\n",
              "    <tr>\n",
              "      <th>3</th>\n",
              "      <td>Andrea Rowan</td>\n",
              "      <td>F</td>\n",
              "      <td>SBD</td>\n",
              "      <td>Wraps</td>\n",
              "      <td>45.0</td>\n",
              "      <td>104.00</td>\n",
              "      <td>140.0</td>\n",
              "      <td>80.0</td>\n",
              "      <td>170.0</td>\n",
              "      <td>390.0</td>\n",
              "      <td>321.25</td>\n",
              "      <td>0</td>\n",
              "      <td>Australia</td>\n",
              "      <td>Melbourne Cup</td>\n",
              "    </tr>\n",
              "    <tr>\n",
              "      <th>4</th>\n",
              "      <td>April Alvarez</td>\n",
              "      <td>F</td>\n",
              "      <td>SBD</td>\n",
              "      <td>Wraps</td>\n",
              "      <td>37.0</td>\n",
              "      <td>74.00</td>\n",
              "      <td>142.5</td>\n",
              "      <td>82.5</td>\n",
              "      <td>145.0</td>\n",
              "      <td>370.0</td>\n",
              "      <td>354.74</td>\n",
              "      <td>0</td>\n",
              "      <td>Australia</td>\n",
              "      <td>Melbourne Cup</td>\n",
              "    </tr>\n",
              "    <tr>\n",
              "      <th>...</th>\n",
              "      <td>...</td>\n",
              "      <td>...</td>\n",
              "      <td>...</td>\n",
              "      <td>...</td>\n",
              "      <td>...</td>\n",
              "      <td>...</td>\n",
              "      <td>...</td>\n",
              "      <td>...</td>\n",
              "      <td>...</td>\n",
              "      <td>...</td>\n",
              "      <td>...</td>\n",
              "      <td>...</td>\n",
              "      <td>...</td>\n",
              "      <td>...</td>\n",
              "    </tr>\n",
              "    <tr>\n",
              "      <th>444653</th>\n",
              "      <td>Łukasz Głowacz</td>\n",
              "      <td>M</td>\n",
              "      <td>SBD</td>\n",
              "      <td>Raw</td>\n",
              "      <td>40.5</td>\n",
              "      <td>82.75</td>\n",
              "      <td>170.0</td>\n",
              "      <td>130.0</td>\n",
              "      <td>200.0</td>\n",
              "      <td>500.0</td>\n",
              "      <td>334.35</td>\n",
              "      <td>1</td>\n",
              "      <td>Poland</td>\n",
              "      <td>Polish Classic Powerlifting Cup</td>\n",
              "    </tr>\n",
              "    <tr>\n",
              "      <th>444654</th>\n",
              "      <td>Adam Jasiński</td>\n",
              "      <td>M</td>\n",
              "      <td>SBD</td>\n",
              "      <td>Raw</td>\n",
              "      <td>65.5</td>\n",
              "      <td>78.00</td>\n",
              "      <td>215.0</td>\n",
              "      <td>115.0</td>\n",
              "      <td>207.5</td>\n",
              "      <td>537.5</td>\n",
              "      <td>372.98</td>\n",
              "      <td>1</td>\n",
              "      <td>Poland</td>\n",
              "      <td>Polish Classic Powerlifting Cup</td>\n",
              "    </tr>\n",
              "    <tr>\n",
              "      <th>444655</th>\n",
              "      <td>Marian Cafalik</td>\n",
              "      <td>M</td>\n",
              "      <td>SBD</td>\n",
              "      <td>Raw</td>\n",
              "      <td>60.5</td>\n",
              "      <td>73.50</td>\n",
              "      <td>175.0</td>\n",
              "      <td>87.5</td>\n",
              "      <td>190.0</td>\n",
              "      <td>452.5</td>\n",
              "      <td>327.07</td>\n",
              "      <td>1</td>\n",
              "      <td>Poland</td>\n",
              "      <td>Polish Classic Powerlifting Cup</td>\n",
              "    </tr>\n",
              "    <tr>\n",
              "      <th>444656</th>\n",
              "      <td>Marian Piwowarczyk</td>\n",
              "      <td>M</td>\n",
              "      <td>SBD</td>\n",
              "      <td>Raw</td>\n",
              "      <td>55.5</td>\n",
              "      <td>63.50</td>\n",
              "      <td>110.0</td>\n",
              "      <td>95.0</td>\n",
              "      <td>170.0</td>\n",
              "      <td>375.0</td>\n",
              "      <td>304.16</td>\n",
              "      <td>1</td>\n",
              "      <td>Poland</td>\n",
              "      <td>Polish Classic Powerlifting Cup</td>\n",
              "    </tr>\n",
              "    <tr>\n",
              "      <th>444657</th>\n",
              "      <td>Andrzej Bryniarski</td>\n",
              "      <td>M</td>\n",
              "      <td>SBD</td>\n",
              "      <td>Raw</td>\n",
              "      <td>62.5</td>\n",
              "      <td>94.40</td>\n",
              "      <td>160.0</td>\n",
              "      <td>100.0</td>\n",
              "      <td>180.0</td>\n",
              "      <td>440.0</td>\n",
              "      <td>274.48</td>\n",
              "      <td>1</td>\n",
              "      <td>Poland</td>\n",
              "      <td>Polish Classic Powerlifting Cup</td>\n",
              "    </tr>\n",
              "  </tbody>\n",
              "</table>\n",
              "<p>444658 rows × 14 columns</p>\n",
              "</div>\n",
              "      <button class=\"colab-df-convert\" onclick=\"convertToInteractive('df-884fb2d9-65d8-452d-bdc3-7c5c93d285c5')\"\n",
              "              title=\"Convert this dataframe to an interactive table.\"\n",
              "              style=\"display:none;\">\n",
              "        \n",
              "  <svg xmlns=\"http://www.w3.org/2000/svg\" height=\"24px\"viewBox=\"0 0 24 24\"\n",
              "       width=\"24px\">\n",
              "    <path d=\"M0 0h24v24H0V0z\" fill=\"none\"/>\n",
              "    <path d=\"M18.56 5.44l.94 2.06.94-2.06 2.06-.94-2.06-.94-.94-2.06-.94 2.06-2.06.94zm-11 1L8.5 8.5l.94-2.06 2.06-.94-2.06-.94L8.5 2.5l-.94 2.06-2.06.94zm10 10l.94 2.06.94-2.06 2.06-.94-2.06-.94-.94-2.06-.94 2.06-2.06.94z\"/><path d=\"M17.41 7.96l-1.37-1.37c-.4-.4-.92-.59-1.43-.59-.52 0-1.04.2-1.43.59L10.3 9.45l-7.72 7.72c-.78.78-.78 2.05 0 2.83L4 21.41c.39.39.9.59 1.41.59.51 0 1.02-.2 1.41-.59l7.78-7.78 2.81-2.81c.8-.78.8-2.07 0-2.86zM5.41 20L4 18.59l7.72-7.72 1.47 1.35L5.41 20z\"/>\n",
              "  </svg>\n",
              "      </button>\n",
              "      \n",
              "  <style>\n",
              "    .colab-df-container {\n",
              "      display:flex;\n",
              "      flex-wrap:wrap;\n",
              "      gap: 12px;\n",
              "    }\n",
              "\n",
              "    .colab-df-convert {\n",
              "      background-color: #E8F0FE;\n",
              "      border: none;\n",
              "      border-radius: 50%;\n",
              "      cursor: pointer;\n",
              "      display: none;\n",
              "      fill: #1967D2;\n",
              "      height: 32px;\n",
              "      padding: 0 0 0 0;\n",
              "      width: 32px;\n",
              "    }\n",
              "\n",
              "    .colab-df-convert:hover {\n",
              "      background-color: #E2EBFA;\n",
              "      box-shadow: 0px 1px 2px rgba(60, 64, 67, 0.3), 0px 1px 3px 1px rgba(60, 64, 67, 0.15);\n",
              "      fill: #174EA6;\n",
              "    }\n",
              "\n",
              "    [theme=dark] .colab-df-convert {\n",
              "      background-color: #3B4455;\n",
              "      fill: #D2E3FC;\n",
              "    }\n",
              "\n",
              "    [theme=dark] .colab-df-convert:hover {\n",
              "      background-color: #434B5C;\n",
              "      box-shadow: 0px 1px 3px 1px rgba(0, 0, 0, 0.15);\n",
              "      filter: drop-shadow(0px 1px 2px rgba(0, 0, 0, 0.3));\n",
              "      fill: #FFFFFF;\n",
              "    }\n",
              "  </style>\n",
              "\n",
              "      <script>\n",
              "        const buttonEl =\n",
              "          document.querySelector('#df-884fb2d9-65d8-452d-bdc3-7c5c93d285c5 button.colab-df-convert');\n",
              "        buttonEl.style.display =\n",
              "          google.colab.kernel.accessAllowed ? 'block' : 'none';\n",
              "\n",
              "        async function convertToInteractive(key) {\n",
              "          const element = document.querySelector('#df-884fb2d9-65d8-452d-bdc3-7c5c93d285c5');\n",
              "          const dataTable =\n",
              "            await google.colab.kernel.invokeFunction('convertToInteractive',\n",
              "                                                     [key], {});\n",
              "          if (!dataTable) return;\n",
              "\n",
              "          const docLinkHtml = 'Like what you see? Visit the ' +\n",
              "            '<a target=\"_blank\" href=https://colab.research.google.com/notebooks/data_table.ipynb>data table notebook</a>'\n",
              "            + ' to learn more about interactive tables.';\n",
              "          element.innerHTML = '';\n",
              "          dataTable['output_type'] = 'display_data';\n",
              "          await google.colab.output.renderOutput(dataTable, element);\n",
              "          const docLink = document.createElement('div');\n",
              "          docLink.innerHTML = docLinkHtml;\n",
              "          element.appendChild(docLink);\n",
              "        }\n",
              "      </script>\n",
              "    </div>\n",
              "  </div>\n",
              "  "
            ]
          },
          "metadata": {},
          "execution_count": 31
        }
      ]
    },
    {
      "cell_type": "code",
      "source": [
        "'''\n",
        "valid_Year = \"Year>1950 & Year<2050\"\n",
        "DF = DF.query(valid_Year)\n",
        "\n",
        "DF.Year = DF.Year.astype('int')  # int형으로 변경\n",
        "\n",
        "NotPub = DF[~DF['Publisher'].str.contains(r'[A-Za-z]')].index # 알파벳을 포함하지 않는 데이터 제거\n",
        "\n",
        "# file export\n",
        "file_name = 'sample1.csv'\n",
        "# saving the excelsheet\n",
        "DF.to_csv(file_name, index=False)\n",
        "'''"
      ],
      "metadata": {
        "colab": {
          "base_uri": "https://localhost:8080/",
          "height": 72
        },
        "id": "p8P1WpGq0tjl",
        "outputId": "276ba9da-6a51-4abd-adc5-7a0015e8d34c"
      },
      "execution_count": 32,
      "outputs": [
        {
          "output_type": "execute_result",
          "data": {
            "text/plain": [
              "'\\nvalid_Year = \"Year>1950 & Year<2050\"\\nDF = DF.query(valid_Year)\\n\\nDF.Year = DF.Year.astype(\\'int\\')  # int형으로 변경\\n\\nNotPub = DF[~DF[\\'Publisher\\'].str.contains(r\\'[A-Za-z]\\')].index # 알파벳을 포함하지 않는 데이터 제거\\n\\n# file export\\nfile_name = \\'sample1.csv\\'\\n# saving the excelsheet\\nDF.to_csv(file_name, index=False)\\n'"
            ],
            "application/vnd.google.colaboratory.intrinsic+json": {
              "type": "string"
            }
          },
          "metadata": {},
          "execution_count": 32
        }
      ]
    },
    {
      "cell_type": "markdown",
      "source": [
        "## **EDA**"
      ],
      "metadata": {
        "id": "fhusGd8u09UM"
      }
    },
    {
      "cell_type": "markdown",
      "source": [
        "**target = Wilks**\n",
        "\n",
        "단순 중량의 합은 남성일수록, 체격(체중)이 클수록 높아지므로 체급에 큰 영향을 받아 객관적인 강함의 지표로 이용하기 어려움.\n",
        "\n",
        "따라서 Wilks score를 이용한다.\n",
        "\n",
        "계산 공식은 다음과 같다."
      ],
      "metadata": {
        "id": "oKo6BPsV1Xam"
      }
    },
    {
      "cell_type": "markdown",
      "source": [
        "![wilks.PNG](data:image/png;base64,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)"
      ],
      "metadata": {
        "id": "1rl4frvN18NO"
      }
    },
    {
      "cell_type": "markdown",
      "source": [
        "![wilks2.PNG](data:image/png;base64,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)"
      ],
      "metadata": {
        "id": "OKLb6xuZ3v_G"
      }
    },
    {
      "cell_type": "markdown",
      "source": [
        "Wilks 점수는 **초보자의 경우 250** 정도이며\n",
        "\n",
        "지역에서 한가닥 하는 사람은 350 정도,\n",
        "\n",
        "**슈퍼 엘리트 선수의 경우에 550~**의 값이 나온다고 보면 된다. "
      ],
      "metadata": {
        "id": "YuKm7UnC30hl"
      }
    },
    {
      "cell_type": "markdown",
      "source": [
        "### **가설**"
      ],
      "metadata": {
        "id": "xdVeFRN6Zjw1"
      }
    },
    {
      "cell_type": "markdown",
      "source": [
        "가설1. 미성년자가 아니라면, 나이가 어릴 수록 (젊을 수록) 높은 성적을 낼 수 있다. 40대가 넘어가면 성적 하락이 보일 것이다.\n",
        "\n",
        "가설2. 장비를 착용하는 파워리프팅은 높은 체중을 가진 사람들에게 더 유리할 것이다.\n",
        "\n",
        "가설3. 스테로이드를 사용한 사람들의 성적이 그렇지 않은 사람들보다 월등히 높을 것이다.\n",
        "\n",
        "\n"
      ],
      "metadata": {
        "id": "GKD3M_jKYXz9"
      }
    },
    {
      "cell_type": "markdown",
      "source": [],
      "metadata": {
        "id": "df_Bhy2o4q_M"
      }
    },
    {
      "cell_type": "markdown",
      "source": [
        "1. wilks 점수의 분포는 정규분포를 그린다. "
      ],
      "metadata": {
        "id": "dz0RUg9M4j1U"
      }
    },
    {
      "cell_type": "code",
      "source": [
        "bin_size=10      # bin -> 8 setting\n",
        "plt.hist(DF['Wilks'], np.arange(0,df.Wilks.max()+bin_size, bin_size))\n",
        "plt.xlabel('Wilks')\n",
        "plt.ylabel('People')\n",
        "plt.title('Wilks Distribution')"
      ],
      "metadata": {
        "colab": {
          "base_uri": "https://localhost:8080/",
          "height": 313
        },
        "id": "tXnLJOPc1Do2",
        "outputId": "5dd62ffe-f9ef-474a-e62f-249b4803d345"
      },
      "execution_count": 33,
      "outputs": [
        {
          "output_type": "execute_result",
          "data": {
            "text/plain": [
              "Text(0.5, 1.0, 'Wilks Distribution')"
            ]
          },
          "metadata": {},
          "execution_count": 33
        },
        {
          "output_type": "display_data",
          "data": {
            "text/plain": [
              "<Figure size 432x288 with 1 Axes>"
            ],
            "image/png": "[encoded data removed]"
          },
          "metadata": {
            "needs_background": "light"
          }
        }
      ]
    },
    {
      "cell_type": "code",
      "source": [
        "DF.info()"
      ],
      "metadata": {
        "colab": {
          "base_uri": "https://localhost:8080/"
        },
        "id": "dbvg4DVWswxs",
        "outputId": "1d7c1430-deb9-4769-fd45-c234c9ea77aa"
      },
      "execution_count": 34,
      "outputs": [
        {
          "output_type": "stream",
          "name": "stdout",
          "text": [
            "<class 'pandas.core.frame.DataFrame'>\n",
            "RangeIndex: 444658 entries, 0 to 444657\n",
            "Data columns (total 14 columns):\n",
            " #   Column        Non-Null Count   Dtype  \n",
            "---  ------        --------------   -----  \n",
            " 0   Name          444658 non-null  object \n",
            " 1   Sex           444658 non-null  object \n",
            " 2   isSBD         444658 non-null  object \n",
            " 3   Equipment     444658 non-null  object \n",
            " 4   Age           444658 non-null  float64\n",
            " 5   BodyweightKg  444658 non-null  float64\n",
            " 6   Squat         444658 non-null  float64\n",
            " 7   Bench         444658 non-null  float64\n",
            " 8   Dead          444658 non-null  float64\n",
            " 9   TotalKg       444658 non-null  float64\n",
            " 10  Wilks         444658 non-null  float64\n",
            " 11  Tested        444658 non-null  int64  \n",
            " 12  MeetCountry   444658 non-null  object \n",
            " 13  MeetName      444658 non-null  object \n",
            "dtypes: float64(7), int64(1), object(6)\n",
            "memory usage: 47.5+ MB\n"
          ]
        }
      ]
    },
    {
      "cell_type": "code",
      "source": [
        "DF['Age'].max()"
      ],
      "metadata": {
        "colab": {
          "base_uri": "https://localhost:8080/"
        },
        "id": "Bz2qMaDpt-Xj",
        "outputId": "d7df9997-e7a1-4846-fa14-a2d9022cf9cc"
      },
      "execution_count": 35,
      "outputs": [
        {
          "output_type": "execute_result",
          "data": {
            "text/plain": [
              "95.5"
            ]
          },
          "metadata": {},
          "execution_count": 35
        }
      ]
    },
    {
      "cell_type": "code",
      "source": [
        "bin_size=10     # bin -> 8 setting\n",
        "plt.hist(DF['Age'], np.arange(0,100, bin_size))\n",
        "plt.xlabel('Age')\n",
        "plt.ylabel('People')\n",
        "plt.title('Age Distribution')"
      ],
      "metadata": {
        "colab": {
          "base_uri": "https://localhost:8080/",
          "height": 313
        },
        "id": "kpGiI1ifv4mL",
        "outputId": "3170be85-bbd8-4b1e-dec6-b3a2c8ef9fe3"
      },
      "execution_count": 36,
      "outputs": [
        {
          "output_type": "execute_result",
          "data": {
            "text/plain": [
              "Text(0.5, 1.0, 'Age Distribution')"
            ]
          },
          "metadata": {},
          "execution_count": 36
        },
        {
          "output_type": "display_data",
          "data": {
            "text/plain": [
              "<Figure size 432x288 with 1 Axes>"
            ],
            "image/png": "[encoded data removed]"
          },
          "metadata": {
            "needs_background": "light"
          }
        }
      ]
    },
    {
      "cell_type": "code",
      "source": [
        "DF.groupby('Age')['Wilks'].sum().plot()"
      ],
      "metadata": {
        "colab": {
          "base_uri": "https://localhost:8080/",
          "height": 308
        },
        "id": "pGIaN8JZybU0",
        "outputId": "dad6efa9-242e-4975-850d-ee1a0b807d48"
      },
      "execution_count": 37,
      "outputs": [
        {
          "output_type": "execute_result",
          "data": {
            "text/plain": [
              "<matplotlib.axes._subplots.AxesSubplot at 0x7fbb1c31aa10>"
            ]
          },
          "metadata": {},
          "execution_count": 37
        },
        {
          "output_type": "display_data",
          "data": {
            "text/plain": [
              "<Figure size 432x288 with 1 Axes>"
            ],
            "image/png": "[encoded data removed]"
          },
          "metadata": {
            "needs_background": "light"
          }
        }
      ]
    },
    {
      "cell_type": "code",
      "source": [
        "DF.groupby('Age')['Wilks'].mean().plot()\n",
        "#plt.ylabel('Wilk Score')"
      ],
      "metadata": {
        "id": "50XHgxGQfda_",
        "outputId": "a9bcde7f-2fe8-4b99-febe-0aac45061d0c",
        "colab": {
          "base_uri": "https://localhost:8080/",
          "height": 297
        }
      },
      "execution_count": 38,
      "outputs": [
        {
          "output_type": "execute_result",
          "data": {
            "text/plain": [
              "<matplotlib.axes._subplots.AxesSubplot at 0x7fbb1e5bee50>"
            ]
          },
          "metadata": {},
          "execution_count": 38
        },
        {
          "output_type": "display_data",
          "data": {
            "text/plain": [
              "<Figure size 432x288 with 1 Axes>"
            ],
            "image/png": "[encoded data removed]"
          },
          "metadata": {
            "needs_background": "light"
          }
        }
      ]
    },
    {
      "cell_type": "code",
      "source": [
        "DF.loc[:,'Age']"
      ],
      "metadata": {
        "colab": {
          "base_uri": "https://localhost:8080/"
        },
        "id": "EYIJHdG0REUn",
        "outputId": "9c35891b-0eb4-4d93-9211-529dfbfcf311"
      },
      "execution_count": 89,
      "outputs": [
        {
          "output_type": "execute_result",
          "data": {
            "text/plain": [
              "0         29.0\n",
              "1         29.0\n",
              "2         23.0\n",
              "3         45.0\n",
              "4         37.0\n",
              "          ... \n",
              "444653    40.5\n",
              "444654    65.5\n",
              "444655    60.5\n",
              "444656    55.5\n",
              "444657    62.5\n",
              "Name: Age, Length: 444658, dtype: float64"
            ]
          },
          "metadata": {},
          "execution_count": 89
        }
      ]
    },
    {
      "cell_type": "code",
      "source": [
        "DF_cor1 = DF\n",
        "sns.heatmap(data = DF.corr(), annot=True, fmt = '.2f', linewidths=.5, cmap='Blues')"
      ],
      "metadata": {
        "colab": {
          "base_uri": "https://localhost:8080/",
          "height": 349
        },
        "id": "5EQcvqM8TMFf",
        "outputId": "1b72b62c-ea22-405a-fe7f-5c15ddf1d7a6"
      },
      "execution_count": 100,
      "outputs": [
        {
          "output_type": "execute_result",
          "data": {
            "text/plain": [
              "<matplotlib.axes._subplots.AxesSubplot at 0x7fbb00c434d0>"
            ]
          },
          "metadata": {},
          "execution_count": 100
        },
        {
          "output_type": "display_data",
          "data": {
            "text/plain": [
              "<Figure size 432x288 with 2 Axes>"
            ],
            "image/png": "[encoded data removed]"
          },
          "metadata": {
            "needs_background": "light"
          }
        }
      ]
    },
    {
      "cell_type": "code",
      "source": [
        "#plt.figure(figsize=(15,15))\n",
        "DF_cor1 = DF.loc[:,['Age','BodyweightKg','Wilks','TotalKg']]\n",
        "sns.heatmap(data = DF_cor1.corr(), annot=True, fmt = '.2f', linewidths=.5, cmap='Blues')"
      ],
      "metadata": {
        "colab": {
          "base_uri": "https://localhost:8080/",
          "height": 287
        },
        "id": "rhtaevQ35D5b",
        "outputId": "ba441ce2-a3b7-41fa-881b-2e7955f09876"
      },
      "execution_count": 97,
      "outputs": [
        {
          "output_type": "execute_result",
          "data": {
            "text/plain": [
              "<matplotlib.axes._subplots.AxesSubplot at 0x7fbb00ebcd90>"
            ]
          },
          "metadata": {},
          "execution_count": 97
        },
        {
          "output_type": "display_data",
          "data": {
            "text/plain": [
              "<Figure size 432x288 with 2 Axes>"
            ],
            "image/png": "[encoded data removed]"
          },
          "metadata": {
            "needs_background": "light"
          }
        }
      ]
    },
    {
      "cell_type": "code",
      "source": [
        "\n",
        "DF_cor2 = DF.loc[:,['Bench','Dead','Squat','TotalKg']]\n",
        "sns.heatmap(data = DF_cor2.corr(), annot=True, fmt = '.2f', linewidths=.5, cmap='Blues')"
      ],
      "metadata": {
        "colab": {
          "base_uri": "https://localhost:8080/",
          "height": 287
        },
        "id": "HVQJiVpiSlS5",
        "outputId": "802c16de-ae81-4e83-d279-b393a31a6225"
      },
      "execution_count": 99,
      "outputs": [
        {
          "output_type": "execute_result",
          "data": {
            "text/plain": [
              "<matplotlib.axes._subplots.AxesSubplot at 0x7fbb00daa350>"
            ]
          },
          "metadata": {},
          "execution_count": 99
        },
        {
          "output_type": "display_data",
          "data": {
            "text/plain": [
              "<Figure size 432x288 with 2 Axes>"
            ],
            "image/png": "[encoded data removed]"
          },
          "metadata": {
            "needs_background": "light"
          }
        }
      ]
    },
    {
      "cell_type": "code",
      "source": [],
      "metadata": {
        "id": "mCh-nh5BSg4n"
      },
      "execution_count": null,
      "outputs": []
    },
    {
      "cell_type": "code",
      "source": [
        "'''\n",
        "str_expr = \"Age <= 11\"     # 나이가 11<=이다 (비교연산자 >=)\n",
        "DF_q = DF.query(str_expr).index  # 조건 부합 데이터 추출\n",
        "DF = DF.drop(DF_q).reset_index(drop=True)\n",
        "'''"
      ],
      "metadata": {
        "id": "UWI26CL2GYsn"
      },
      "execution_count": null,
      "outputs": []
    },
    {
      "cell_type": "markdown",
      "source": [
        "ㅁㅁㅁㅁㅁㅁㅁㅁㅁㅁㅁㅁㅁㅁㅁㅁㅁㅁㅁㅁㅁㅁㅁㅁㅁㅁㅁㅁㅁㅁㅁㅁㅁㅁㅁㅁㅁㅁㅁㅁㅁㅁㅁㅁㅁㅁㅁㅁㅁㅁㅁㅁㅁㅁㅁㅁㅁㅁㅁㅁㅁㅁㅁㅁㅁㅁㅁㅁㅁㅁㅁㅁㅁㅁㅁㅁㅁㅁㅁㅁㅁㅁㅁㅁㅁㅁㅁㅁㅁㅁㅁㅁㅁㅁㅁㅁㅁㅁㅁㅁㅁㅁㅁㅁㅁㅁㅁㅁㅁㅁㅁㅁㅁㅁㅁㅁㅁㅁㅁㅁㅁㅁㅁㅁㅁㅁㅁㅁㅁㅁㅁㅁㅁㅁㅁㅁㅁㅁㅁㅁㅁㅁㅁㅁㅁㅁㅁㅁㅁㅁㅁㅁㅁㅁㅁㅁㅁㅁㅁㅁㅁㅁㅁㅁㅁㅁㅁㅁㅁㅁㅁㅁㅁㅁㅁ"
      ],
      "metadata": {
        "id": "uur5Rc-P9Hkv"
      }
    },
    {
      "cell_type": "code",
      "source": [
        "DF['Tested'].value_counts(normalize=True)"
      ],
      "metadata": {
        "colab": {
          "base_uri": "https://localhost:8080/"
        },
        "id": "JSneC1pW8yzL",
        "outputId": "6be7436b-6592-406f-f973-63f2a4ccda3b"
      },
      "execution_count": 62,
      "outputs": [
        {
          "output_type": "execute_result",
          "data": {
            "text/plain": [
              "1    0.715336\n",
              "0    0.284664\n",
              "Name: Tested, dtype: float64"
            ]
          },
          "metadata": {},
          "execution_count": 62
        }
      ]
    },
    {
      "cell_type": "code",
      "source": [
        "DF['Tested'].value_counts(normalize=True).plot(kind='bar', title = 'Tested ratio', rot=0, color=['slateblue', 'darkslateblue'])\n",
        "plt.show()"
      ],
      "metadata": {
        "colab": {
          "base_uri": "https://localhost:8080/",
          "height": 281
        },
        "id": "PkYuuRcSOd8v",
        "outputId": "8ae5e919-801d-4d59-a156-626de112ae80"
      },
      "execution_count": 78,
      "outputs": [
        {
          "output_type": "display_data",
          "data": {
            "text/plain": [
              "<Figure size 432x288 with 1 Axes>"
            ],
            "image/png": "[encoded data removed]"
          },
          "metadata": {
            "needs_background": "light"
          }
        }
      ]
    }
  ]
}